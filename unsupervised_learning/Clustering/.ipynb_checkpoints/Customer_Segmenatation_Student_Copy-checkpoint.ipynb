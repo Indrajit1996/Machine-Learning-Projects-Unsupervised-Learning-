{
 "cells": [
  {
   "cell_type": "markdown",
   "metadata": {
    "colab_type": "text",
    "id": "jOY46OllWH3s"
   },
   "source": [
    "#### Load the required libraries "
   ]
  },
  {
   "cell_type": "code",
   "execution_count": null,
   "metadata": {
    "colab": {
     "base_uri": "https://localhost:8080/",
     "height": 119
    },
    "colab_type": "code",
    "id": "boNTLxZGW6eI",
    "outputId": "e7745483-059f-4656-f080-71728c1d8a86"
   },
   "outputs": [],
   "source": [
    "import os \n",
    "os.chdir('.')\n",
    "os.listdir('.')"
   ]
  },
  {
   "cell_type": "code",
   "execution_count": null,
   "metadata": {
    "colab": {},
    "colab_type": "code",
    "id": "vlkHUx_RWH3x"
   },
   "outputs": [],
   "source": [
    "import time as time\n",
    "import numpy as np\n",
    "import pandas as pd\n",
    "import matplotlib.pyplot as plt\n",
    "import seaborn as sns\n",
    "%matplotlib inline\n",
    "import datetime as dt\n",
    "from sklearn.cluster import KMeans,AgglomerativeClustering\n",
    "from scipy.cluster.hierarchy import linkage, dendrogram\n",
    "import plotly.express as px"
   ]
  },
  {
   "cell_type": "markdown",
   "metadata": {
    "colab_type": "text",
    "id": "8YwYCxLgWH3-"
   },
   "source": [
    "#### Read the data "
   ]
  },
  {
   "cell_type": "code",
   "execution_count": null,
   "metadata": {
    "colab": {},
    "colab_type": "code",
    "id": "dpacl0VxWH4A"
   },
   "outputs": [],
   "source": [
    "# Read the dataset\n",
    "\n",
    "\n",
    "online = **********"
   ]
  },
  {
   "cell_type": "code",
   "execution_count": null,
   "metadata": {
    "colab": {
     "base_uri": "https://localhost:8080/",
     "height": 359
    },
    "colab_type": "code",
    "id": "M2Zd4vj6WH4H",
    "outputId": "83dc3222-73ef-4b76-ffa9-0d6ce0e4c324"
   },
   "outputs": [],
   "source": [
    "# Print the head of the dataset\n",
    "\n",
    "\n",
    "**********"
   ]
  },
  {
   "cell_type": "markdown",
   "metadata": {
    "colab_type": "text",
    "id": "gWF3HqoQWH4O"
   },
   "source": [
    "#### Basic details of the dataset like count of rows ,columns and names of columns"
   ]
  },
  {
   "cell_type": "code",
   "execution_count": null,
   "metadata": {
    "colab": {
     "base_uri": "https://localhost:8080/",
     "height": 68
    },
    "colab_type": "code",
    "id": "3u_MFg3SWH4Q",
    "outputId": "fa5c09af-948e-488c-e44c-8d8f029f7f5f"
   },
   "outputs": [],
   "source": [
    "print(f'Number of rows in the dataset = {**********}')\n",
    "print(f'Number of Columns in the datset ={**********}')\n",
    "print(f'The name of the columns are : {list(**********)}')"
   ]
  },
  {
   "cell_type": "markdown",
   "metadata": {
    "colab_type": "text",
    "id": "yLtBGl9VWH4X"
   },
   "source": [
    "#### Check for the Missing Values"
   ]
  },
  {
   "cell_type": "code",
   "execution_count": null,
   "metadata": {},
   "outputs": [],
   "source": [
    "**********"
   ]
  },
  {
   "cell_type": "markdown",
   "metadata": {
    "colab_type": "text",
    "id": "bTpXbtOpWH45"
   },
   "source": [
    "#### Get the details of the data types"
   ]
  },
  {
   "cell_type": "code",
   "execution_count": null,
   "metadata": {
    "colab": {
     "base_uri": "https://localhost:8080/",
     "height": 170
    },
    "colab_type": "code",
    "id": "bRDrLaNIWH47",
    "outputId": "dfb87d21-f623-4b6e-f3c3-9eda5bcc161f"
   },
   "outputs": [],
   "source": [
    "**********"
   ]
  },
  {
   "cell_type": "markdown",
   "metadata": {
    "colab_type": "text",
    "id": "-z4YGQ2aWH5C"
   },
   "source": [
    "#### Changing the columns to the required data type"
   ]
  },
  {
   "cell_type": "code",
   "execution_count": null,
   "metadata": {
    "colab": {},
    "colab_type": "code",
    "id": "mF2jd9IEWH5L"
   },
   "outputs": [],
   "source": [
    "online['CustomerID'] = online['CustomerID'].astype('category')"
   ]
  },
  {
   "cell_type": "code",
   "execution_count": null,
   "metadata": {
    "colab": {},
    "colab_type": "code",
    "id": "aR-dcLlgWH5Q"
   },
   "outputs": [],
   "source": [
    "cat_cols  = online.select_dtypes('object').columns\n",
    "online[cat_cols] = online[cat_cols].astype('category')\n"
   ]
  },
  {
   "cell_type": "code",
   "execution_count": null,
   "metadata": {},
   "outputs": [],
   "source": [
    "online['InvoiceDate'] = **********"
   ]
  },
  {
   "cell_type": "markdown",
   "metadata": {
    "colab_type": "text",
    "id": "GQBfI8CfWH5V"
   },
   "source": [
    "#### Get the summary statistics "
   ]
  },
  {
   "cell_type": "code",
   "execution_count": null,
   "metadata": {
    "colab": {
     "base_uri": "https://localhost:8080/",
     "height": 297
    },
    "colab_type": "code",
    "id": "kUDfmGpsWH5X",
    "outputId": "5386ea48-bea1-49c9-b048-93e85206598c"
   },
   "outputs": [],
   "source": [
    "online.describe(include=['float64','int64'])"
   ]
  },
  {
   "cell_type": "code",
   "execution_count": null,
   "metadata": {
    "colab": {
     "base_uri": "https://localhost:8080/",
     "height": 235
    },
    "colab_type": "code",
    "id": "iDmQ86MHWH52",
    "outputId": "c11fc75b-7448-4aea-ac75-9112c79db250"
   },
   "outputs": [],
   "source": [
    "online.describe(exclude=['float64','int64'])"
   ]
  },
  {
   "cell_type": "markdown",
   "metadata": {
    "colab_type": "text",
    "id": "NqngtNS_WH59"
   },
   "source": [
    "#### Get the total  number of Customers"
   ]
  },
  {
   "cell_type": "code",
   "execution_count": null,
   "metadata": {
    "colab": {
     "base_uri": "https://localhost:8080/",
     "height": 34
    },
    "colab_type": "code",
    "id": "_4zefGXFWH5-",
    "outputId": "8a8fd424-ddf6-4b4c-e8de-f332a6b12ef5"
   },
   "outputs": [],
   "source": [
    "online['CustomerID'].nunique()"
   ]
  },
  {
   "cell_type": "markdown",
   "metadata": {
    "colab_type": "text",
    "id": "QwIGuCaeWH6E"
   },
   "source": [
    "#### Get the details of the unique features for all the Categorical columns with their value counts"
   ]
  },
  {
   "cell_type": "code",
   "execution_count": null,
   "metadata": {
    "colab": {
     "base_uri": "https://localhost:8080/",
     "height": 85
    },
    "colab_type": "code",
    "id": "rT2zFZ8fWH6F",
    "outputId": "0108c540-29cc-481e-cf7e-5c172360d577"
   },
   "outputs": [],
   "source": [
    "for col in cat_cols:\n",
    "    print(col,online[col].nunique())\n",
    "    "
   ]
  },
  {
   "cell_type": "markdown",
   "metadata": {
    "colab_type": "text",
    "id": "pClLettqWH6O"
   },
   "source": [
    "#### Add a column TotalSum by multiplying Quantity with unit Price"
   ]
  },
  {
   "cell_type": "code",
   "execution_count": null,
   "metadata": {
    "colab": {},
    "colab_type": "code",
    "id": "qivRvplaWH6Q"
   },
   "outputs": [],
   "source": [
    "online['TotalSum'] = **********"
   ]
  },
  {
   "cell_type": "markdown",
   "metadata": {
    "colab_type": "text",
    "id": "aPa8oZu2WH6X"
   },
   "source": [
    "#### Find the min and max dates from the InvoiceDate"
   ]
  },
  {
   "cell_type": "code",
   "execution_count": null,
   "metadata": {
    "colab": {
     "base_uri": "https://localhost:8080/",
     "height": 34
    },
    "colab_type": "code",
    "id": "2h5EAymEWH6Z",
    "outputId": "482cff14-c6f6-48a7-c21a-75172af49955"
   },
   "outputs": [],
   "source": [
    "Max_Date=max((online['InvoiceDate']).dt.date) \n",
    "Min_Date=min((online['InvoiceDate']).dt.date)\n",
    "print(f'Max_Date = {Max_Date} , Min_Date={Min_Date}')"
   ]
  },
  {
   "cell_type": "markdown",
   "metadata": {
    "colab_type": "text",
    "id": "myVCPwKwWH6g"
   },
   "source": [
    "#### Select a snap shot date to find the RFM"
   ]
  },
  {
   "cell_type": "code",
   "execution_count": null,
   "metadata": {
    "colab": {
     "base_uri": "https://localhost:8080/",
     "height": 34
    },
    "colab_type": "code",
    "id": "HXdbbDNFWH6i",
    "outputId": "49eb7b0f-c99b-4621-a617-6cbeda02c69c"
   },
   "outputs": [],
   "source": [
    "snap_shot_date = Max_Date+dt.timedelta(days=1)\n",
    "print(f'snap_shot_date={snap_shot_date}')\n"
   ]
  },
  {
   "cell_type": "markdown",
   "metadata": {
    "colab_type": "text",
    "id": "SlMLyWcMWH6n"
   },
   "source": [
    "#### Aggregating on the CustomerID"
   ]
  },
  {
   "cell_type": "code",
   "execution_count": null,
   "metadata": {
    "colab": {},
    "colab_type": "code",
    "id": "Qk8Y0frYWH6p"
   },
   "outputs": [],
   "source": [
    "custlevelagg = online.groupby('CustomerID').agg({'InvoiceDate':lambda x:(snap_shot_date-x.dt.date.max()).days,\n",
    "'InvoiceNo':'count',\n",
    "'TotalSum':'sum'}).reset_index()"
   ]
  },
  {
   "cell_type": "code",
   "execution_count": null,
   "metadata": {
    "colab": {},
    "colab_type": "code",
    "id": "CGolXCnUWH6w"
   },
   "outputs": [],
   "source": [
    "custlevelagg.rename(columns={'InvoiceDate':'Recency','InvoiceNo':'Frequency','TotalSum':'Monetary'},inplace=True)"
   ]
  },
  {
   "cell_type": "code",
   "execution_count": null,
   "metadata": {
    "colab": {
     "base_uri": "https://localhost:8080/",
     "height": 204
    },
    "colab_type": "code",
    "id": "8Y3zCYxhWH60",
    "outputId": "6151d6d5-bdcf-437d-9fce-1a76f8bff304"
   },
   "outputs": [],
   "source": [
    "custlevelagg.head()"
   ]
  },
  {
   "cell_type": "markdown",
   "metadata": {
    "colab_type": "text",
    "id": "IHj6RXghWH66"
   },
   "source": [
    "#### Drop the CustomerID not relevant for Analysis "
   ]
  },
  {
   "cell_type": "code",
   "execution_count": null,
   "metadata": {
    "colab": {},
    "colab_type": "code",
    "id": "QsHA5hrSWH69"
   },
   "outputs": [],
   "source": [
    "custlevelaggrfm = custlevelagg.drop('CustomerID',axis=1)"
   ]
  },
  {
   "cell_type": "markdown",
   "metadata": {
    "colab_type": "text",
    "id": "xCSVunq4WH7G"
   },
   "source": [
    "#### Since Clustering  uses distances  variation in scales for different columns will be a problem (As big numbers dominate the distances)"
   ]
  },
  {
   "cell_type": "code",
   "execution_count": null,
   "metadata": {
    "colab": {},
    "colab_type": "code",
    "id": "tvrGjk3zWH7H"
   },
   "outputs": [],
   "source": [
    "from sklearn.preprocessing import StandardScaler\n",
    "scaler = StandardScaler()\n",
    "scaler.fit(custlevelaggrfm)\n",
    "custlevelaggrfm_normalized = scaler.transform(custlevelaggrfm)\n"
   ]
  },
  {
   "cell_type": "markdown",
   "metadata": {
    "colab_type": "text",
    "id": "RC94FcnOd9N7"
   },
   "source": [
    "#### Instantiate the Kmeans Model"
   ]
  },
  {
   "cell_type": "code",
   "execution_count": null,
   "metadata": {
    "colab": {},
    "colab_type": "code",
    "id": "d90UcWr5dkOg"
   },
   "outputs": [],
   "source": [
    "kmeans = KMeans(n_clusters=2,random_state=123)"
   ]
  },
  {
   "cell_type": "code",
   "execution_count": null,
   "metadata": {
    "colab": {
     "base_uri": "https://localhost:8080/",
     "height": 68
    },
    "colab_type": "code",
    "id": "QKpwpNaleG6G",
    "outputId": "12a8c748-47d4-48d2-8970-7b63638e324a"
   },
   "outputs": [],
   "source": [
    "kmeans.fit(custlevelaggrfm_normalized)"
   ]
  },
  {
   "cell_type": "code",
   "execution_count": null,
   "metadata": {
    "colab": {
     "base_uri": "https://localhost:8080/",
     "height": 34
    },
    "colab_type": "code",
    "id": "mLUX84W4c4pe",
    "outputId": "96dc7117-42fc-4d1d-f467-379417fc6fea"
   },
   "outputs": [],
   "source": [
    "cluster_labels = kmeans.labels_\n",
    "cluster_labels"
   ]
  },
  {
   "cell_type": "code",
   "execution_count": null,
   "metadata": {
    "colab": {},
    "colab_type": "code",
    "id": "q5PxNRbHc4pk"
   },
   "outputs": [],
   "source": [
    "rfm_k2 = custlevelaggrfm.assign(Cluster = cluster_labels)"
   ]
  },
  {
   "cell_type": "code",
   "execution_count": null,
   "metadata": {
    "colab": {
     "base_uri": "https://localhost:8080/",
     "height": 142
    },
    "colab_type": "code",
    "id": "Cm6YjbZwc4pr",
    "outputId": "8773f0a4-2b2b-403d-d4de-5fc997eaecef"
   },
   "outputs": [],
   "source": [
    "rfm_k2.groupby('Cluster').agg({'Recency':'mean','Frequency':'mean','Monetary':['mean','count']}).reset_index()"
   ]
  },
  {
   "cell_type": "code",
   "execution_count": null,
   "metadata": {
    "colab": {
     "base_uri": "https://localhost:8080/",
     "height": 34
    },
    "colab_type": "code",
    "id": "J1pYZ9G9c4pu",
    "outputId": "583c41b9-7c4d-4653-e17d-e80aa6292f82"
   },
   "outputs": [],
   "source": [
    "labels = kmeans.predict(custlevelaggrfm_normalized)\n",
    "labels"
   ]
  },
  {
   "cell_type": "code",
   "execution_count": null,
   "metadata": {
    "colab": {},
    "colab_type": "code",
    "id": "fM7OYuYTc4p7"
   },
   "outputs": [],
   "source": [
    "from sklearn.metrics import silhouette_score\n",
    "cluster_metrics = {'k':[],'sse':[],'silhoutte_score':[]}\n",
    "for k in range(2,11):\n",
    "    kmeans = KMeans(k,random_state=1)\n",
    "    kmeans.fit(custlevelaggrfm_normalized)\n",
    "    labels = kmeans.predict(custlevelaggrfm_normalized)\n",
    "    cluster_metrics['k'].append(k)\n",
    "    cluster_metrics['sse'].append(kmeans.inertia_)\n",
    "    cluster_metrics['silhoutte_score'].append(silhouette_score(custlevelaggrfm_normalized,labels=labels))\n",
    "    "
   ]
  },
  {
   "cell_type": "code",
   "execution_count": null,
   "metadata": {
    "colab": {
     "base_uri": "https://localhost:8080/",
     "height": 328
    },
    "colab_type": "code",
    "id": "xqG3_ugEc4p-",
    "outputId": "4d844a47-54a8-4bc6-8602-d943ce56041f"
   },
   "outputs": [],
   "source": [
    "pd.DataFrame.from_dict(cluster_metrics)"
   ]
  },
  {
   "cell_type": "markdown",
   "metadata": {
    "colab_type": "text",
    "id": "-lMaUQrQc4qC"
   },
   "source": [
    "#### Plot for the SSE\n"
   ]
  },
  {
   "cell_type": "code",
   "execution_count": null,
   "metadata": {
    "colab": {
     "base_uri": "https://localhost:8080/",
     "height": 295
    },
    "colab_type": "code",
    "id": "AWXGcJ90c4qE",
    "outputId": "623db77c-ed6b-4289-d2e9-23081453b977"
   },
   "outputs": [],
   "source": [
    "\n",
    "plt.title(\"Elbow Plot of SSE\")\n",
    "plt.xlabel('k')\n",
    "plt.ylabel('SSE')\n",
    "sns.pointplot(x =cluster_metrics['k'] ,y =  cluster_metrics['sse'])\n",
    "plt.show()"
   ]
  },
  {
   "cell_type": "markdown",
   "metadata": {
    "colab_type": "text",
    "id": "doYCA0yMc4qJ"
   },
   "source": [
    "* Selecting the number of Cluster through elbow plot the value of k should be 5"
   ]
  },
  {
   "cell_type": "code",
   "execution_count": null,
   "metadata": {
    "colab": {},
    "colab_type": "code",
    "id": "ogsMunRAc4qJ"
   },
   "outputs": [],
   "source": [
    "kmeans = KMeans(n_clusters=5,random_state=123)"
   ]
  },
  {
   "cell_type": "code",
   "execution_count": null,
   "metadata": {
    "colab": {},
    "colab_type": "code",
    "id": "Ee_1n3I-c4qM"
   },
   "outputs": [],
   "source": [
    "kmeans.fit(custlevelaggrfm_normalized)\n",
    "rfm_k5 = custlevelaggrfm.assign(Cluster = kmeans.labels_)"
   ]
  },
  {
   "cell_type": "code",
   "execution_count": null,
   "metadata": {
    "colab": {
     "base_uri": "https://localhost:8080/",
     "height": 204
    },
    "colab_type": "code",
    "id": "ASWNiIHXc4qP",
    "outputId": "51861811-8bf7-4590-96ad-239840a0703a"
   },
   "outputs": [],
   "source": [
    "rfm_k5.head()"
   ]
  },
  {
   "cell_type": "code",
   "execution_count": null,
   "metadata": {
    "colab": {
     "base_uri": "https://localhost:8080/",
     "height": 266
    },
    "colab_type": "code",
    "id": "9TLxkQtic4qY",
    "outputId": "cccd613d-2551-462a-f167-4b291c82450d"
   },
   "outputs": [],
   "source": [
    "rfm_k5.groupby('Cluster').agg({'Recency':'mean','Frequency':'mean','Monetary':['mean','count']})"
   ]
  },
  {
   "cell_type": "code",
   "execution_count": null,
   "metadata": {
    "colab": {
     "base_uri": "https://localhost:8080/",
     "height": 119
    },
    "colab_type": "code",
    "id": "i6PWTtagc4qd",
    "outputId": "db8c101f-ed5a-41ab-eae5-73603cb45b8b"
   },
   "outputs": [],
   "source": [
    "rfm_k5['Cluster'].value_counts()"
   ]
  },
  {
   "cell_type": "code",
   "execution_count": null,
   "metadata": {
    "colab": {},
    "colab_type": "code",
    "id": "nsWEJ0v3c4ql"
   },
   "outputs": [],
   "source": [
    "rfm_k5['Cluster'] = rfm_k5['Cluster'].astype('category')"
   ]
  },
  {
   "cell_type": "code",
   "execution_count": null,
   "metadata": {
    "colab": {
     "base_uri": "https://localhost:8080/",
     "height": 542
    },
    "colab_type": "code",
    "id": "EMKaYs27c4qp",
    "outputId": "83d46cb9-a8f1-49d0-e8b6-145737b2701f"
   },
   "outputs": [],
   "source": [
    "import plotly.express as px\n",
    "fig = px.scatter_3d(rfm_k5, x='Recency', y='Frequency', z='Monetary',\n",
    "              color='Cluster')\n",
    "fig.write_html(\"image.html\")"
   ]
  },
  {
   "cell_type": "code",
   "execution_count": null,
   "metadata": {
    "colab": {
     "base_uri": "https://localhost:8080/",
     "height": 34
    },
    "colab_type": "code",
    "id": "_goN1pxyq3X_",
    "outputId": "0def859e-7dd5-429a-a496-55ff6a6c02f0"
   },
   "outputs": [],
   "source": [
    "custlevelagg.columns"
   ]
  },
  {
   "cell_type": "code",
   "execution_count": null,
   "metadata": {
    "colab": {
     "base_uri": "https://localhost:8080/",
     "height": 1000
    },
    "colab_type": "code",
    "id": "f6GeBFW5c4qs",
    "outputId": "99f0864f-a93e-4ffb-dc9e-870e7951dc95"
   },
   "outputs": [],
   "source": [
    "import matplotlib.pyplot as plt\n",
    "%matplotlib notebook\n",
    "#Import Linkage and Dendrogram from scipy library.\n",
    "\n",
    "from scipy.cluster.hierarchy import linkage, dendrogram\n",
    "#2. Build the linkage matrix for the data.\n",
    "linkage_matrix = linkage(custlevelaggrfm,method='ward',metric='euclidean')\n",
    "#3. Using the linkage matrix build the Dendrogram.\n",
    "dendrogram(linkage_matrix,labels=custlevelagg['CustomerID'].as_matrix())\n",
    "#4. What is the ideal number of clusters from the above plot?\n",
    "#5. Import Heirchal clustering from Sklearn.\n",
    "plt.show()"
   ]
  },
  {
   "cell_type": "code",
   "execution_count": null,
   "metadata": {
    "colab": {
     "base_uri": "https://localhost:8080/",
     "height": 68
    },
    "colab_type": "code",
    "id": "VFmyZbgLc4qw",
    "outputId": "304c36e1-6014-4482-cc93-4e125e1916fc"
   },
   "outputs": [],
   "source": [
    "import time as time\n",
    "import numpy as np\n",
    "import matplotlib.pyplot as plt\n",
    "import mpl_toolkits.mplot3d.axes3d as p3\n",
    "from sklearn.cluster import AgglomerativeClustering\n",
    "print(\"Compute Structured hierarchical clustering...\")\n",
    "st = time.time()\n",
    "ward = AgglomerativeClustering(n_clusters=3, linkage='ward').fit(custlevelaggrfm_normalized)\n",
    "elapsed_time = time.time() - st\n",
    "label = ward.labels_\n",
    "print(\"Elapsed time: %.2fs\" % elapsed_time)\n",
    "print(\"Number of points: %i\" % label.size)\n"
   ]
  },
  {
   "cell_type": "markdown",
   "metadata": {
    "colab_type": "text",
    "id": "RnG5afIS4U8h"
   },
   "source": [
    "#### DBScan Clustering"
   ]
  },
  {
   "cell_type": "code",
   "execution_count": null,
   "metadata": {
    "colab": {},
    "colab_type": "code",
    "id": "sgqs3ztKc4q6"
   },
   "outputs": [],
   "source": [
    "from sklearn.cluster import DBSCAN"
   ]
  },
  {
   "cell_type": "code",
   "execution_count": null,
   "metadata": {
    "colab": {},
    "colab_type": "code",
    "id": "GHGOqb4q4dRO"
   },
   "outputs": [],
   "source": [
    "cluster  = DBSCAN(metric='euclidean')"
   ]
  },
  {
   "cell_type": "code",
   "execution_count": null,
   "metadata": {
    "colab": {
     "base_uri": "https://localhost:8080/",
     "height": 51
    },
    "colab_type": "code",
    "id": "fuj2UM2f4lcX",
    "outputId": "b15cde34-9a7b-4bca-e5a7-f49eb5fb8482"
   },
   "outputs": [],
   "source": [
    "cluster.fit(custlevelaggrfm_normalized)"
   ]
  },
  {
   "cell_type": "code",
   "execution_count": null,
   "metadata": {
    "colab": {},
    "colab_type": "code",
    "id": "UU73Dvud5IOV"
   },
   "outputs": [],
   "source": [
    "labels = cluster.labels_"
   ]
  },
  {
   "cell_type": "code",
   "execution_count": null,
   "metadata": {},
   "outputs": [],
   "source": [
    "np.unique(labels)"
   ]
  },
  {
   "cell_type": "code",
   "execution_count": null,
   "metadata": {
    "colab": {
     "base_uri": "https://localhost:8080/",
     "height": 34
    },
    "colab_type": "code",
    "id": "QUYTWPyY5qXw",
    "outputId": "ee694b14-3cae-48be-fd05-4c92766c4da7"
   },
   "outputs": [],
   "source": [
    "len(labels)"
   ]
  },
  {
   "cell_type": "code",
   "execution_count": null,
   "metadata": {
    "colab": {},
    "colab_type": "code",
    "id": "9O9bdmIF4pq5"
   },
   "outputs": [],
   "source": [
    "dbscan_rfm = custlevelaggrfm.assign(Cluster = labels)"
   ]
  },
  {
   "cell_type": "code",
   "execution_count": null,
   "metadata": {
    "colab": {
     "base_uri": "https://localhost:8080/",
     "height": 85
    },
    "colab_type": "code",
    "id": "RxtTAfE45V-N",
    "outputId": "eccdfc29-a9f6-42f0-a7b4-42b189958923"
   },
   "outputs": [],
   "source": [
    "dbscan_rfm.Cluster.value_counts()"
   ]
  },
  {
   "cell_type": "code",
   "execution_count": null,
   "metadata": {
    "colab": {},
    "colab_type": "code",
    "id": "2pWWjKHp6vMg"
   },
   "outputs": [],
   "source": []
  }
 ],
 "metadata": {
  "accelerator": "GPU",
  "colab": {
   "name": "Customer_Segmenatation.ipynb",
   "provenance": []
  },
  "kernelspec": {
   "display_name": "Python 3",
   "language": "python",
   "name": "python3"
  },
  "language_info": {
   "codemirror_mode": {
    "name": "ipython",
    "version": 3
   },
   "file_extension": ".py",
   "mimetype": "text/x-python",
   "name": "python",
   "nbconvert_exporter": "python",
   "pygments_lexer": "ipython3",
   "version": "3.7.4"
  }
 },
 "nbformat": 4,
 "nbformat_minor": 1
}
