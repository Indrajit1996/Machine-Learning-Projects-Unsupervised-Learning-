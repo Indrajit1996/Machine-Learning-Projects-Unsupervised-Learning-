{
 "cells": [
  {
   "cell_type": "markdown",
   "metadata": {
    "colab_type": "text",
    "id": "jOY46OllWH3s"
   },
   "source": [
    "#### Load the required libraries "
   ]
  },
  {
   "cell_type": "code",
   "execution_count": 1,
   "metadata": {
    "colab": {
     "base_uri": "https://localhost:8080/",
     "height": 119
    },
    "colab_type": "code",
    "id": "boNTLxZGW6eI",
    "outputId": "e7745483-059f-4656-f080-71728c1d8a86"
   },
   "outputs": [
    {
     "data": {
      "text/plain": [
       "['Customer_Segmenatation_Student_Copy.ipynb',\n",
       " 'image.html',\n",
       " 'online12M.csv',\n",
       " 'Customer_Segmenatation .ipynb',\n",
       " '.ipynb_checkpoints']"
      ]
     },
     "execution_count": 1,
     "metadata": {},
     "output_type": "execute_result"
    }
   ],
   "source": [
    "import os \n",
    "os.chdir('.')\n",
    "os.listdir('.')"
   ]
  },
  {
   "cell_type": "code",
   "execution_count": 2,
   "metadata": {
    "colab": {},
    "colab_type": "code",
    "id": "vlkHUx_RWH3x"
   },
   "outputs": [],
   "source": [
    "import time as time\n",
    "import numpy as np\n",
    "import pandas as pd\n",
    "import matplotlib.pyplot as plt\n",
    "import seaborn as sns\n",
    "%matplotlib inline\n",
    "import datetime as dt\n",
    "from sklearn.cluster import KMeans,AgglomerativeClustering\n",
    "from scipy.cluster.hierarchy import linkage, dendrogram\n",
    "import plotly.express as px"
   ]
  },
  {
   "cell_type": "markdown",
   "metadata": {
    "colab_type": "text",
    "id": "8YwYCxLgWH3-"
   },
   "source": [
    "#### Read the data "
   ]
  },
  {
   "cell_type": "code",
   "execution_count": 3,
   "metadata": {
    "colab": {},
    "colab_type": "code",
    "id": "dpacl0VxWH4A"
   },
   "outputs": [],
   "source": [
    "online = pd.read_csv('online12M.csv',index_col=0)"
   ]
  },
  {
   "cell_type": "code",
   "execution_count": 4,
   "metadata": {
    "colab": {
     "base_uri": "https://localhost:8080/",
     "height": 359
    },
    "colab_type": "code",
    "id": "M2Zd4vj6WH4H",
    "outputId": "83dc3222-73ef-4b76-ffa9-0d6ce0e4c324"
   },
   "outputs": [
    {
     "data": {
      "text/html": [
       "<div>\n",
       "<style scoped>\n",
       "    .dataframe tbody tr th:only-of-type {\n",
       "        vertical-align: middle;\n",
       "    }\n",
       "\n",
       "    .dataframe tbody tr th {\n",
       "        vertical-align: top;\n",
       "    }\n",
       "\n",
       "    .dataframe thead th {\n",
       "        text-align: right;\n",
       "    }\n",
       "</style>\n",
       "<table border=\"1\" class=\"dataframe\">\n",
       "  <thead>\n",
       "    <tr style=\"text-align: right;\">\n",
       "      <th></th>\n",
       "      <th>InvoiceNo</th>\n",
       "      <th>StockCode</th>\n",
       "      <th>Description</th>\n",
       "      <th>Quantity</th>\n",
       "      <th>InvoiceDate</th>\n",
       "      <th>UnitPrice</th>\n",
       "      <th>CustomerID</th>\n",
       "      <th>Country</th>\n",
       "    </tr>\n",
       "  </thead>\n",
       "  <tbody>\n",
       "    <tr>\n",
       "      <td>416792</td>\n",
       "      <td>572558</td>\n",
       "      <td>22745</td>\n",
       "      <td>POPPY'S PLAYHOUSE BEDROOM</td>\n",
       "      <td>6</td>\n",
       "      <td>2011-10-25</td>\n",
       "      <td>2.10</td>\n",
       "      <td>14286</td>\n",
       "      <td>United Kingdom</td>\n",
       "    </tr>\n",
       "    <tr>\n",
       "      <td>482904</td>\n",
       "      <td>577485</td>\n",
       "      <td>23196</td>\n",
       "      <td>VINTAGE LEAF MAGNETIC NOTEPAD</td>\n",
       "      <td>1</td>\n",
       "      <td>2011-11-20</td>\n",
       "      <td>1.45</td>\n",
       "      <td>16360</td>\n",
       "      <td>United Kingdom</td>\n",
       "    </tr>\n",
       "    <tr>\n",
       "      <td>263743</td>\n",
       "      <td>560034</td>\n",
       "      <td>23299</td>\n",
       "      <td>FOOD COVER WITH BEADS SET 2</td>\n",
       "      <td>6</td>\n",
       "      <td>2011-07-14</td>\n",
       "      <td>3.75</td>\n",
       "      <td>13933</td>\n",
       "      <td>United Kingdom</td>\n",
       "    </tr>\n",
       "    <tr>\n",
       "      <td>495549</td>\n",
       "      <td>578307</td>\n",
       "      <td>72349B</td>\n",
       "      <td>SET/6 PURPLE BUTTERFLY T-LIGHTS</td>\n",
       "      <td>1</td>\n",
       "      <td>2011-11-23</td>\n",
       "      <td>2.10</td>\n",
       "      <td>17290</td>\n",
       "      <td>United Kingdom</td>\n",
       "    </tr>\n",
       "    <tr>\n",
       "      <td>204384</td>\n",
       "      <td>554656</td>\n",
       "      <td>21756</td>\n",
       "      <td>BATH BUILDING BLOCK WORD</td>\n",
       "      <td>3</td>\n",
       "      <td>2011-05-25</td>\n",
       "      <td>5.95</td>\n",
       "      <td>17663</td>\n",
       "      <td>United Kingdom</td>\n",
       "    </tr>\n",
       "    <tr>\n",
       "      <td>125615</td>\n",
       "      <td>547051</td>\n",
       "      <td>22028</td>\n",
       "      <td>PENNY FARTHING BIRTHDAY CARD</td>\n",
       "      <td>12</td>\n",
       "      <td>2011-03-20</td>\n",
       "      <td>0.42</td>\n",
       "      <td>12902</td>\n",
       "      <td>United Kingdom</td>\n",
       "    </tr>\n",
       "    <tr>\n",
       "      <td>483123</td>\n",
       "      <td>577493</td>\n",
       "      <td>20724</td>\n",
       "      <td>RED RETROSPOT CHARLOTTE BAG</td>\n",
       "      <td>10</td>\n",
       "      <td>2011-11-20</td>\n",
       "      <td>0.85</td>\n",
       "      <td>17323</td>\n",
       "      <td>United Kingdom</td>\n",
       "    </tr>\n",
       "    <tr>\n",
       "      <td>449888</td>\n",
       "      <td>575143</td>\n",
       "      <td>23343</td>\n",
       "      <td>JUMBO BAG VINTAGE CHRISTMAS</td>\n",
       "      <td>10</td>\n",
       "      <td>2011-11-08</td>\n",
       "      <td>2.08</td>\n",
       "      <td>13643</td>\n",
       "      <td>United Kingdom</td>\n",
       "    </tr>\n",
       "    <tr>\n",
       "      <td>127438</td>\n",
       "      <td>547223</td>\n",
       "      <td>22934</td>\n",
       "      <td>BAKING MOULD EASTER EGG WHITE CHOC</td>\n",
       "      <td>2</td>\n",
       "      <td>2011-03-21</td>\n",
       "      <td>2.95</td>\n",
       "      <td>12867</td>\n",
       "      <td>United Kingdom</td>\n",
       "    </tr>\n",
       "    <tr>\n",
       "      <td>189515</td>\n",
       "      <td>553156</td>\n",
       "      <td>21212</td>\n",
       "      <td>PACK OF 72 RETROSPOT CAKE CASES</td>\n",
       "      <td>2</td>\n",
       "      <td>2011-05-13</td>\n",
       "      <td>0.55</td>\n",
       "      <td>17841</td>\n",
       "      <td>United Kingdom</td>\n",
       "    </tr>\n",
       "  </tbody>\n",
       "</table>\n",
       "</div>"
      ],
      "text/plain": [
       "        InvoiceNo StockCode                         Description  Quantity  \\\n",
       "416792     572558     22745          POPPY'S PLAYHOUSE BEDROOM          6   \n",
       "482904     577485     23196       VINTAGE LEAF MAGNETIC NOTEPAD         1   \n",
       "263743     560034     23299        FOOD COVER WITH BEADS SET 2          6   \n",
       "495549     578307    72349B     SET/6 PURPLE BUTTERFLY T-LIGHTS         1   \n",
       "204384     554656     21756            BATH BUILDING BLOCK WORD         3   \n",
       "125615     547051     22028        PENNY FARTHING BIRTHDAY CARD        12   \n",
       "483123     577493     20724         RED RETROSPOT CHARLOTTE BAG        10   \n",
       "449888     575143     23343        JUMBO BAG VINTAGE CHRISTMAS         10   \n",
       "127438     547223     22934  BAKING MOULD EASTER EGG WHITE CHOC         2   \n",
       "189515     553156     21212     PACK OF 72 RETROSPOT CAKE CASES         2   \n",
       "\n",
       "       InvoiceDate  UnitPrice  CustomerID         Country  \n",
       "416792  2011-10-25       2.10       14286  United Kingdom  \n",
       "482904  2011-11-20       1.45       16360  United Kingdom  \n",
       "263743  2011-07-14       3.75       13933  United Kingdom  \n",
       "495549  2011-11-23       2.10       17290  United Kingdom  \n",
       "204384  2011-05-25       5.95       17663  United Kingdom  \n",
       "125615  2011-03-20       0.42       12902  United Kingdom  \n",
       "483123  2011-11-20       0.85       17323  United Kingdom  \n",
       "449888  2011-11-08       2.08       13643  United Kingdom  \n",
       "127438  2011-03-21       2.95       12867  United Kingdom  \n",
       "189515  2011-05-13       0.55       17841  United Kingdom  "
      ]
     },
     "execution_count": 4,
     "metadata": {},
     "output_type": "execute_result"
    }
   ],
   "source": [
    "online.head(10)"
   ]
  },
  {
   "cell_type": "markdown",
   "metadata": {
    "colab_type": "text",
    "id": "gWF3HqoQWH4O"
   },
   "source": [
    "#### Basic details of the dataset like count of rows ,columns and names of columns"
   ]
  },
  {
   "cell_type": "code",
   "execution_count": 5,
   "metadata": {
    "colab": {
     "base_uri": "https://localhost:8080/",
     "height": 68
    },
    "colab_type": "code",
    "id": "3u_MFg3SWH4Q",
    "outputId": "fa5c09af-948e-488c-e44c-8d8f029f7f5f"
   },
   "outputs": [
    {
     "name": "stdout",
     "output_type": "stream",
     "text": [
      "Number of rows in the dataset = 68176\n",
      "Number of Columns in the datset =8\n",
      "The name of the columns are : ['InvoiceNo', 'StockCode', 'Description', 'Quantity', 'InvoiceDate', 'UnitPrice', 'CustomerID', 'Country']\n"
     ]
    }
   ],
   "source": [
    "print(f'Number of rows in the dataset = {online.shape[0]}')\n",
    "print(f'Number of Columns in the datset ={online.shape[1]}')\n",
    "print(f'The name of the columns are : {list(online.columns)}')"
   ]
  },
  {
   "cell_type": "markdown",
   "metadata": {
    "colab_type": "text",
    "id": "yLtBGl9VWH4X"
   },
   "source": [
    "#### Check for the Missing Values"
   ]
  },
  {
   "cell_type": "code",
   "execution_count": 6,
   "metadata": {},
   "outputs": [
    {
     "data": {
      "text/plain": [
       "InvoiceNo      0\n",
       "StockCode      0\n",
       "Description    0\n",
       "Quantity       0\n",
       "InvoiceDate    0\n",
       "UnitPrice      0\n",
       "CustomerID     0\n",
       "Country        0\n",
       "dtype: int64"
      ]
     },
     "execution_count": 6,
     "metadata": {},
     "output_type": "execute_result"
    }
   ],
   "source": [
    "online.isnull().sum()"
   ]
  },
  {
   "cell_type": "markdown",
   "metadata": {
    "colab_type": "text",
    "id": "bTpXbtOpWH45"
   },
   "source": [
    "#### Get the details of the data types"
   ]
  },
  {
   "cell_type": "code",
   "execution_count": 7,
   "metadata": {
    "colab": {
     "base_uri": "https://localhost:8080/",
     "height": 170
    },
    "colab_type": "code",
    "id": "bRDrLaNIWH47",
    "outputId": "dfb87d21-f623-4b6e-f3c3-9eda5bcc161f"
   },
   "outputs": [
    {
     "data": {
      "text/plain": [
       "InvoiceNo        int64\n",
       "StockCode       object\n",
       "Description     object\n",
       "Quantity         int64\n",
       "InvoiceDate     object\n",
       "UnitPrice      float64\n",
       "CustomerID       int64\n",
       "Country         object\n",
       "dtype: object"
      ]
     },
     "execution_count": 7,
     "metadata": {},
     "output_type": "execute_result"
    }
   ],
   "source": [
    "online.dtypes"
   ]
  },
  {
   "cell_type": "markdown",
   "metadata": {
    "colab_type": "text",
    "id": "-z4YGQ2aWH5C"
   },
   "source": [
    "#### Changing the columns to the required data type"
   ]
  },
  {
   "cell_type": "code",
   "execution_count": 8,
   "metadata": {
    "colab": {},
    "colab_type": "code",
    "id": "mF2jd9IEWH5L"
   },
   "outputs": [],
   "source": [
    "online['CustomerID'] = online['CustomerID'].astype('category')"
   ]
  },
  {
   "cell_type": "code",
   "execution_count": 9,
   "metadata": {
    "colab": {},
    "colab_type": "code",
    "id": "aR-dcLlgWH5Q"
   },
   "outputs": [],
   "source": [
    "cat_cols  = online.select_dtypes('object').columns\n",
    "online[cat_cols] = online[cat_cols].astype('category')\n"
   ]
  },
  {
   "cell_type": "code",
   "execution_count": 10,
   "metadata": {},
   "outputs": [],
   "source": [
    "online['InvoiceDate'] = pd.to_datetime(online['InvoiceDate'])"
   ]
  },
  {
   "cell_type": "markdown",
   "metadata": {
    "colab_type": "text",
    "id": "GQBfI8CfWH5V"
   },
   "source": [
    "#### Get the summary statistics "
   ]
  },
  {
   "cell_type": "code",
   "execution_count": 11,
   "metadata": {
    "colab": {
     "base_uri": "https://localhost:8080/",
     "height": 297
    },
    "colab_type": "code",
    "id": "kUDfmGpsWH5X",
    "outputId": "5386ea48-bea1-49c9-b048-93e85206598c"
   },
   "outputs": [
    {
     "data": {
      "text/html": [
       "<div>\n",
       "<style scoped>\n",
       "    .dataframe tbody tr th:only-of-type {\n",
       "        vertical-align: middle;\n",
       "    }\n",
       "\n",
       "    .dataframe tbody tr th {\n",
       "        vertical-align: top;\n",
       "    }\n",
       "\n",
       "    .dataframe thead th {\n",
       "        text-align: right;\n",
       "    }\n",
       "</style>\n",
       "<table border=\"1\" class=\"dataframe\">\n",
       "  <thead>\n",
       "    <tr style=\"text-align: right;\">\n",
       "      <th></th>\n",
       "      <th>InvoiceNo</th>\n",
       "      <th>Quantity</th>\n",
       "      <th>UnitPrice</th>\n",
       "    </tr>\n",
       "  </thead>\n",
       "  <tbody>\n",
       "    <tr>\n",
       "      <td>count</td>\n",
       "      <td>68176.000000</td>\n",
       "      <td>68176.000000</td>\n",
       "      <td>68176.000000</td>\n",
       "    </tr>\n",
       "    <tr>\n",
       "      <td>mean</td>\n",
       "      <td>561562.235904</td>\n",
       "      <td>11.556119</td>\n",
       "      <td>3.069209</td>\n",
       "    </tr>\n",
       "    <tr>\n",
       "      <td>std</td>\n",
       "      <td>12570.817828</td>\n",
       "      <td>41.133000</td>\n",
       "      <td>32.513232</td>\n",
       "    </tr>\n",
       "    <tr>\n",
       "      <td>min</td>\n",
       "      <td>538172.000000</td>\n",
       "      <td>1.000000</td>\n",
       "      <td>0.001000</td>\n",
       "    </tr>\n",
       "    <tr>\n",
       "      <td>25%</td>\n",
       "      <td>550512.000000</td>\n",
       "      <td>2.000000</td>\n",
       "      <td>1.250000</td>\n",
       "    </tr>\n",
       "    <tr>\n",
       "      <td>50%</td>\n",
       "      <td>562779.000000</td>\n",
       "      <td>4.000000</td>\n",
       "      <td>1.850000</td>\n",
       "    </tr>\n",
       "    <tr>\n",
       "      <td>75%</td>\n",
       "      <td>572650.000000</td>\n",
       "      <td>12.000000</td>\n",
       "      <td>3.750000</td>\n",
       "    </tr>\n",
       "    <tr>\n",
       "      <td>max</td>\n",
       "      <td>581586.000000</td>\n",
       "      <td>4300.000000</td>\n",
       "      <td>8142.750000</td>\n",
       "    </tr>\n",
       "  </tbody>\n",
       "</table>\n",
       "</div>"
      ],
      "text/plain": [
       "           InvoiceNo      Quantity     UnitPrice\n",
       "count   68176.000000  68176.000000  68176.000000\n",
       "mean   561562.235904     11.556119      3.069209\n",
       "std     12570.817828     41.133000     32.513232\n",
       "min    538172.000000      1.000000      0.001000\n",
       "25%    550512.000000      2.000000      1.250000\n",
       "50%    562779.000000      4.000000      1.850000\n",
       "75%    572650.000000     12.000000      3.750000\n",
       "max    581586.000000   4300.000000   8142.750000"
      ]
     },
     "execution_count": 11,
     "metadata": {},
     "output_type": "execute_result"
    }
   ],
   "source": [
    "online.describe(include=['float64','int64'])"
   ]
  },
  {
   "cell_type": "code",
   "execution_count": 12,
   "metadata": {
    "colab": {
     "base_uri": "https://localhost:8080/",
     "height": 235
    },
    "colab_type": "code",
    "id": "iDmQ86MHWH52",
    "outputId": "c11fc75b-7448-4aea-ac75-9112c79db250"
   },
   "outputs": [
    {
     "data": {
      "text/html": [
       "<div>\n",
       "<style scoped>\n",
       "    .dataframe tbody tr th:only-of-type {\n",
       "        vertical-align: middle;\n",
       "    }\n",
       "\n",
       "    .dataframe tbody tr th {\n",
       "        vertical-align: top;\n",
       "    }\n",
       "\n",
       "    .dataframe thead th {\n",
       "        text-align: right;\n",
       "    }\n",
       "</style>\n",
       "<table border=\"1\" class=\"dataframe\">\n",
       "  <thead>\n",
       "    <tr style=\"text-align: right;\">\n",
       "      <th></th>\n",
       "      <th>StockCode</th>\n",
       "      <th>Description</th>\n",
       "      <th>InvoiceDate</th>\n",
       "      <th>CustomerID</th>\n",
       "      <th>Country</th>\n",
       "    </tr>\n",
       "  </thead>\n",
       "  <tbody>\n",
       "    <tr>\n",
       "      <td>count</td>\n",
       "      <td>68176</td>\n",
       "      <td>68176</td>\n",
       "      <td>68176</td>\n",
       "      <td>68176</td>\n",
       "      <td>68176</td>\n",
       "    </tr>\n",
       "    <tr>\n",
       "      <td>unique</td>\n",
       "      <td>3185</td>\n",
       "      <td>3305</td>\n",
       "      <td>297</td>\n",
       "      <td>3643</td>\n",
       "      <td>1</td>\n",
       "    </tr>\n",
       "    <tr>\n",
       "      <td>top</td>\n",
       "      <td>85123A</td>\n",
       "      <td>WHITE HANGING HEART T-LIGHT HOLDER</td>\n",
       "      <td>2011-12-05 00:00:00</td>\n",
       "      <td>17841</td>\n",
       "      <td>United Kingdom</td>\n",
       "    </tr>\n",
       "    <tr>\n",
       "      <td>freq</td>\n",
       "      <td>353</td>\n",
       "      <td>353</td>\n",
       "      <td>660</td>\n",
       "      <td>1497</td>\n",
       "      <td>68176</td>\n",
       "    </tr>\n",
       "  </tbody>\n",
       "</table>\n",
       "</div>"
      ],
      "text/plain": [
       "       StockCode                         Description          InvoiceDate  \\\n",
       "count      68176                               68176                68176   \n",
       "unique      3185                                3305                  297   \n",
       "top       85123A  WHITE HANGING HEART T-LIGHT HOLDER  2011-12-05 00:00:00   \n",
       "freq         353                                 353                  660   \n",
       "\n",
       "        CustomerID         Country  \n",
       "count        68176           68176  \n",
       "unique        3643               1  \n",
       "top          17841  United Kingdom  \n",
       "freq          1497           68176  "
      ]
     },
     "execution_count": 12,
     "metadata": {},
     "output_type": "execute_result"
    }
   ],
   "source": [
    "online.describe(exclude=['float64','int64'])"
   ]
  },
  {
   "cell_type": "markdown",
   "metadata": {
    "colab_type": "text",
    "id": "NqngtNS_WH59"
   },
   "source": [
    "#### Get the total  number of Customers"
   ]
  },
  {
   "cell_type": "code",
   "execution_count": 13,
   "metadata": {
    "colab": {
     "base_uri": "https://localhost:8080/",
     "height": 34
    },
    "colab_type": "code",
    "id": "_4zefGXFWH5-",
    "outputId": "8a8fd424-ddf6-4b4c-e8de-f332a6b12ef5"
   },
   "outputs": [
    {
     "data": {
      "text/plain": [
       "3643"
      ]
     },
     "execution_count": 13,
     "metadata": {},
     "output_type": "execute_result"
    }
   ],
   "source": [
    "online['CustomerID'].nunique()"
   ]
  },
  {
   "cell_type": "markdown",
   "metadata": {
    "colab_type": "text",
    "id": "QwIGuCaeWH6E"
   },
   "source": [
    "#### Get the details of the unique features for all the Categorical columns with their value counts"
   ]
  },
  {
   "cell_type": "code",
   "execution_count": 14,
   "metadata": {
    "colab": {
     "base_uri": "https://localhost:8080/",
     "height": 85
    },
    "colab_type": "code",
    "id": "rT2zFZ8fWH6F",
    "outputId": "0108c540-29cc-481e-cf7e-5c172360d577"
   },
   "outputs": [
    {
     "name": "stdout",
     "output_type": "stream",
     "text": [
      "StockCode 3185\n",
      "Description 3305\n",
      "InvoiceDate 297\n",
      "Country 1\n"
     ]
    }
   ],
   "source": [
    "for col in cat_cols:\n",
    "    print(col,online[col].nunique())\n",
    "    "
   ]
  },
  {
   "cell_type": "markdown",
   "metadata": {
    "colab_type": "text",
    "id": "pClLettqWH6O"
   },
   "source": [
    "#### Add a column TotalSum by multiplying Quantity with unit Price"
   ]
  },
  {
   "cell_type": "code",
   "execution_count": 15,
   "metadata": {
    "colab": {},
    "colab_type": "code",
    "id": "qivRvplaWH6Q"
   },
   "outputs": [],
   "source": [
    "online['TotalSum'] = online['Quantity'] * online['UnitPrice']"
   ]
  },
  {
   "cell_type": "markdown",
   "metadata": {
    "colab_type": "text",
    "id": "aPa8oZu2WH6X"
   },
   "source": [
    "#### Find the min and max dates from the InvoiceDate"
   ]
  },
  {
   "cell_type": "code",
   "execution_count": 16,
   "metadata": {
    "colab": {
     "base_uri": "https://localhost:8080/",
     "height": 34
    },
    "colab_type": "code",
    "id": "2h5EAymEWH6Z",
    "outputId": "482cff14-c6f6-48a7-c21a-75172af49955"
   },
   "outputs": [
    {
     "name": "stdout",
     "output_type": "stream",
     "text": [
      "Max_Date = 2011-12-09 , Min_Date=2010-12-10\n"
     ]
    }
   ],
   "source": [
    "Max_Date=max((online['InvoiceDate']).dt.date) \n",
    "Min_Date=min((online['InvoiceDate']).dt.date)\n",
    "print(f'Max_Date = {Max_Date} , Min_Date={Min_Date}')"
   ]
  },
  {
   "cell_type": "markdown",
   "metadata": {
    "colab_type": "text",
    "id": "myVCPwKwWH6g"
   },
   "source": [
    "#### Select a snap shot date to find the RFM"
   ]
  },
  {
   "cell_type": "code",
   "execution_count": 17,
   "metadata": {
    "colab": {
     "base_uri": "https://localhost:8080/",
     "height": 34
    },
    "colab_type": "code",
    "id": "HXdbbDNFWH6i",
    "outputId": "49eb7b0f-c99b-4621-a617-6cbeda02c69c"
   },
   "outputs": [
    {
     "name": "stdout",
     "output_type": "stream",
     "text": [
      "snap_shot_date=2011-12-10\n"
     ]
    }
   ],
   "source": [
    "snap_shot_date = Max_Date+dt.timedelta(days=1)\n",
    "print(f'snap_shot_date={snap_shot_date}')\n"
   ]
  },
  {
   "cell_type": "markdown",
   "metadata": {
    "colab_type": "text",
    "id": "SlMLyWcMWH6n"
   },
   "source": [
    "#### Aggregating on the CustomerID"
   ]
  },
  {
   "cell_type": "code",
   "execution_count": 18,
   "metadata": {
    "colab": {},
    "colab_type": "code",
    "id": "Qk8Y0frYWH6p"
   },
   "outputs": [],
   "source": [
    "custlevelagg = online.groupby('CustomerID').agg({'InvoiceDate':lambda x:(snap_shot_date-x.dt.date.max()).days,\n",
    "'InvoiceNo':'count',\n",
    "'TotalSum':'sum'}).reset_index()"
   ]
  },
  {
   "cell_type": "code",
   "execution_count": 19,
   "metadata": {
    "colab": {},
    "colab_type": "code",
    "id": "CGolXCnUWH6w"
   },
   "outputs": [],
   "source": [
    "custlevelagg.rename(columns={'InvoiceDate':'Recency','InvoiceNo':'Frequency','TotalSum':'Monetary'},inplace=True)"
   ]
  },
  {
   "cell_type": "code",
   "execution_count": 20,
   "metadata": {
    "colab": {
     "base_uri": "https://localhost:8080/",
     "height": 204
    },
    "colab_type": "code",
    "id": "8Y3zCYxhWH60",
    "outputId": "6151d6d5-bdcf-437d-9fce-1a76f8bff304"
   },
   "outputs": [
    {
     "data": {
      "text/html": [
       "<div>\n",
       "<style scoped>\n",
       "    .dataframe tbody tr th:only-of-type {\n",
       "        vertical-align: middle;\n",
       "    }\n",
       "\n",
       "    .dataframe tbody tr th {\n",
       "        vertical-align: top;\n",
       "    }\n",
       "\n",
       "    .dataframe thead th {\n",
       "        text-align: right;\n",
       "    }\n",
       "</style>\n",
       "<table border=\"1\" class=\"dataframe\">\n",
       "  <thead>\n",
       "    <tr style=\"text-align: right;\">\n",
       "      <th></th>\n",
       "      <th>CustomerID</th>\n",
       "      <th>Recency</th>\n",
       "      <th>Frequency</th>\n",
       "      <th>Monetary</th>\n",
       "    </tr>\n",
       "  </thead>\n",
       "  <tbody>\n",
       "    <tr>\n",
       "      <td>0</td>\n",
       "      <td>12747</td>\n",
       "      <td>3</td>\n",
       "      <td>25</td>\n",
       "      <td>948.70</td>\n",
       "    </tr>\n",
       "    <tr>\n",
       "      <td>1</td>\n",
       "      <td>12748</td>\n",
       "      <td>1</td>\n",
       "      <td>888</td>\n",
       "      <td>7046.16</td>\n",
       "    </tr>\n",
       "    <tr>\n",
       "      <td>2</td>\n",
       "      <td>12749</td>\n",
       "      <td>4</td>\n",
       "      <td>37</td>\n",
       "      <td>813.45</td>\n",
       "    </tr>\n",
       "    <tr>\n",
       "      <td>3</td>\n",
       "      <td>12820</td>\n",
       "      <td>4</td>\n",
       "      <td>17</td>\n",
       "      <td>268.02</td>\n",
       "    </tr>\n",
       "    <tr>\n",
       "      <td>4</td>\n",
       "      <td>12822</td>\n",
       "      <td>71</td>\n",
       "      <td>9</td>\n",
       "      <td>146.15</td>\n",
       "    </tr>\n",
       "  </tbody>\n",
       "</table>\n",
       "</div>"
      ],
      "text/plain": [
       "  CustomerID  Recency  Frequency  Monetary\n",
       "0      12747        3         25    948.70\n",
       "1      12748        1        888   7046.16\n",
       "2      12749        4         37    813.45\n",
       "3      12820        4         17    268.02\n",
       "4      12822       71          9    146.15"
      ]
     },
     "execution_count": 20,
     "metadata": {},
     "output_type": "execute_result"
    }
   ],
   "source": [
    "custlevelagg.head()"
   ]
  },
  {
   "cell_type": "markdown",
   "metadata": {
    "colab_type": "text",
    "id": "IHj6RXghWH66"
   },
   "source": [
    "#### Drop the CustomerID not relevant for Analysis "
   ]
  },
  {
   "cell_type": "code",
   "execution_count": 21,
   "metadata": {
    "colab": {},
    "colab_type": "code",
    "id": "QsHA5hrSWH69"
   },
   "outputs": [],
   "source": [
    "custlevelaggrfm = custlevelagg.drop('CustomerID',axis=1)"
   ]
  },
  {
   "cell_type": "markdown",
   "metadata": {
    "colab_type": "text",
    "id": "xCSVunq4WH7G"
   },
   "source": [
    "#### Since Clustering  uses distances  variation in scales for different columns will be a problem (As big numbers dominate the distances)"
   ]
  },
  {
   "cell_type": "code",
   "execution_count": 22,
   "metadata": {
    "colab": {},
    "colab_type": "code",
    "id": "tvrGjk3zWH7H"
   },
   "outputs": [],
   "source": [
    "from sklearn.preprocessing import StandardScaler\n",
    "scaler = StandardScaler()\n",
    "scaler.fit(custlevelaggrfm)\n",
    "custlevelaggrfm_normalized = scaler.transform(custlevelaggrfm)\n"
   ]
  },
  {
   "cell_type": "markdown",
   "metadata": {
    "colab_type": "text",
    "id": "RC94FcnOd9N7"
   },
   "source": [
    "#### Instantiate the Kmeans Model"
   ]
  },
  {
   "cell_type": "code",
   "execution_count": 23,
   "metadata": {
    "colab": {},
    "colab_type": "code",
    "id": "d90UcWr5dkOg"
   },
   "outputs": [],
   "source": [
    "kmeans = KMeans(n_clusters=2,random_state=123)"
   ]
  },
  {
   "cell_type": "code",
   "execution_count": 24,
   "metadata": {
    "colab": {
     "base_uri": "https://localhost:8080/",
     "height": 68
    },
    "colab_type": "code",
    "id": "QKpwpNaleG6G",
    "outputId": "12a8c748-47d4-48d2-8970-7b63638e324a"
   },
   "outputs": [
    {
     "data": {
      "text/plain": [
       "KMeans(algorithm='auto', copy_x=True, init='k-means++', max_iter=300,\n",
       "       n_clusters=2, n_init=10, n_jobs=None, precompute_distances='auto',\n",
       "       random_state=123, tol=0.0001, verbose=0)"
      ]
     },
     "execution_count": 24,
     "metadata": {},
     "output_type": "execute_result"
    }
   ],
   "source": [
    "kmeans.fit(custlevelaggrfm_normalized)"
   ]
  },
  {
   "cell_type": "code",
   "execution_count": 25,
   "metadata": {
    "colab": {
     "base_uri": "https://localhost:8080/",
     "height": 34
    },
    "colab_type": "code",
    "id": "mLUX84W4c4pe",
    "outputId": "96dc7117-42fc-4d1d-f467-379417fc6fea"
   },
   "outputs": [
    {
     "data": {
      "text/plain": [
       "array([0, 0, 0, ..., 0, 0, 0], dtype=int32)"
      ]
     },
     "execution_count": 25,
     "metadata": {},
     "output_type": "execute_result"
    }
   ],
   "source": [
    "cluster_labels = kmeans.labels_\n",
    "cluster_labels"
   ]
  },
  {
   "cell_type": "code",
   "execution_count": 26,
   "metadata": {
    "colab": {},
    "colab_type": "code",
    "id": "q5PxNRbHc4pk"
   },
   "outputs": [],
   "source": [
    "rfm_k2 = custlevelaggrfm.assign(Cluster = cluster_labels)"
   ]
  },
  {
   "cell_type": "code",
   "execution_count": 27,
   "metadata": {
    "colab": {
     "base_uri": "https://localhost:8080/",
     "height": 142
    },
    "colab_type": "code",
    "id": "Cm6YjbZwc4pr",
    "outputId": "8773f0a4-2b2b-403d-d4de-5fc997eaecef"
   },
   "outputs": [
    {
     "data": {
      "text/html": [
       "<div>\n",
       "<style scoped>\n",
       "    .dataframe tbody tr th:only-of-type {\n",
       "        vertical-align: middle;\n",
       "    }\n",
       "\n",
       "    .dataframe tbody tr th {\n",
       "        vertical-align: top;\n",
       "    }\n",
       "\n",
       "    .dataframe thead tr th {\n",
       "        text-align: left;\n",
       "    }\n",
       "</style>\n",
       "<table border=\"1\" class=\"dataframe\">\n",
       "  <thead>\n",
       "    <tr>\n",
       "      <th></th>\n",
       "      <th>Cluster</th>\n",
       "      <th>Recency</th>\n",
       "      <th>Frequency</th>\n",
       "      <th colspan=\"2\" halign=\"left\">Monetary</th>\n",
       "    </tr>\n",
       "    <tr>\n",
       "      <th></th>\n",
       "      <th></th>\n",
       "      <th>mean</th>\n",
       "      <th>mean</th>\n",
       "      <th>mean</th>\n",
       "      <th>count</th>\n",
       "    </tr>\n",
       "  </thead>\n",
       "  <tbody>\n",
       "    <tr>\n",
       "      <td>0</td>\n",
       "      <td>0</td>\n",
       "      <td>40.134601</td>\n",
       "      <td>23.282998</td>\n",
       "      <td>465.289053</td>\n",
       "      <td>2682</td>\n",
       "    </tr>\n",
       "    <tr>\n",
       "      <td>1</td>\n",
       "      <td>1</td>\n",
       "      <td>230.817898</td>\n",
       "      <td>5.963580</td>\n",
       "      <td>106.695536</td>\n",
       "      <td>961</td>\n",
       "    </tr>\n",
       "  </tbody>\n",
       "</table>\n",
       "</div>"
      ],
      "text/plain": [
       "  Cluster     Recency  Frequency    Monetary      \n",
       "                 mean       mean        mean count\n",
       "0       0   40.134601  23.282998  465.289053  2682\n",
       "1       1  230.817898   5.963580  106.695536   961"
      ]
     },
     "execution_count": 27,
     "metadata": {},
     "output_type": "execute_result"
    }
   ],
   "source": [
    "rfm_k2.groupby('Cluster').agg({'Recency':'mean','Frequency':'mean','Monetary':['mean','count']}).reset_index()"
   ]
  },
  {
   "cell_type": "code",
   "execution_count": 28,
   "metadata": {
    "colab": {
     "base_uri": "https://localhost:8080/",
     "height": 34
    },
    "colab_type": "code",
    "id": "J1pYZ9G9c4pu",
    "outputId": "583c41b9-7c4d-4653-e17d-e80aa6292f82"
   },
   "outputs": [
    {
     "data": {
      "text/plain": [
       "array([0, 0, 0, ..., 0, 0, 0], dtype=int32)"
      ]
     },
     "execution_count": 28,
     "metadata": {},
     "output_type": "execute_result"
    }
   ],
   "source": [
    "labels = kmeans.predict(custlevelaggrfm_normalized)\n",
    "labels"
   ]
  },
  {
   "cell_type": "code",
   "execution_count": 29,
   "metadata": {
    "colab": {},
    "colab_type": "code",
    "id": "fM7OYuYTc4p7"
   },
   "outputs": [],
   "source": [
    "from sklearn.metrics import silhouette_score\n",
    "cluster_metrics = {'k':[],'sse':[],'silhoutte_score':[]}\n",
    "for k in range(2,11):\n",
    "    kmeans = KMeans(k,random_state=1)\n",
    "    kmeans.fit(custlevelaggrfm_normalized)\n",
    "    labels = kmeans.predict(custlevelaggrfm_normalized)\n",
    "    cluster_metrics['k'].append(k)\n",
    "    cluster_metrics['sse'].append(kmeans.inertia_)\n",
    "    cluster_metrics['silhoutte_score'].append(silhouette_score(custlevelaggrfm_normalized,labels=labels))\n",
    "    "
   ]
  },
  {
   "cell_type": "code",
   "execution_count": 30,
   "metadata": {
    "colab": {
     "base_uri": "https://localhost:8080/",
     "height": 328
    },
    "colab_type": "code",
    "id": "xqG3_ugEc4p-",
    "outputId": "4d844a47-54a8-4bc6-8602-d943ce56041f"
   },
   "outputs": [
    {
     "data": {
      "text/html": [
       "<div>\n",
       "<style scoped>\n",
       "    .dataframe tbody tr th:only-of-type {\n",
       "        vertical-align: middle;\n",
       "    }\n",
       "\n",
       "    .dataframe tbody tr th {\n",
       "        vertical-align: top;\n",
       "    }\n",
       "\n",
       "    .dataframe thead th {\n",
       "        text-align: right;\n",
       "    }\n",
       "</style>\n",
       "<table border=\"1\" class=\"dataframe\">\n",
       "  <thead>\n",
       "    <tr style=\"text-align: right;\">\n",
       "      <th></th>\n",
       "      <th>k</th>\n",
       "      <th>sse</th>\n",
       "      <th>silhoutte_score</th>\n",
       "    </tr>\n",
       "  </thead>\n",
       "  <tbody>\n",
       "    <tr>\n",
       "      <td>0</td>\n",
       "      <td>2</td>\n",
       "      <td>7883.328456</td>\n",
       "      <td>0.556158</td>\n",
       "    </tr>\n",
       "    <tr>\n",
       "      <td>1</td>\n",
       "      <td>3</td>\n",
       "      <td>5020.781055</td>\n",
       "      <td>0.583532</td>\n",
       "    </tr>\n",
       "    <tr>\n",
       "      <td>2</td>\n",
       "      <td>4</td>\n",
       "      <td>3710.601086</td>\n",
       "      <td>0.584377</td>\n",
       "    </tr>\n",
       "    <tr>\n",
       "      <td>3</td>\n",
       "      <td>5</td>\n",
       "      <td>2700.878095</td>\n",
       "      <td>0.606559</td>\n",
       "    </tr>\n",
       "    <tr>\n",
       "      <td>4</td>\n",
       "      <td>6</td>\n",
       "      <td>1960.092471</td>\n",
       "      <td>0.582920</td>\n",
       "    </tr>\n",
       "    <tr>\n",
       "      <td>5</td>\n",
       "      <td>7</td>\n",
       "      <td>1590.271342</td>\n",
       "      <td>0.520347</td>\n",
       "    </tr>\n",
       "    <tr>\n",
       "      <td>6</td>\n",
       "      <td>8</td>\n",
       "      <td>1337.383848</td>\n",
       "      <td>0.494925</td>\n",
       "    </tr>\n",
       "    <tr>\n",
       "      <td>7</td>\n",
       "      <td>9</td>\n",
       "      <td>1171.705865</td>\n",
       "      <td>0.467878</td>\n",
       "    </tr>\n",
       "    <tr>\n",
       "      <td>8</td>\n",
       "      <td>10</td>\n",
       "      <td>1055.650951</td>\n",
       "      <td>0.455670</td>\n",
       "    </tr>\n",
       "  </tbody>\n",
       "</table>\n",
       "</div>"
      ],
      "text/plain": [
       "    k          sse  silhoutte_score\n",
       "0   2  7883.328456         0.556158\n",
       "1   3  5020.781055         0.583532\n",
       "2   4  3710.601086         0.584377\n",
       "3   5  2700.878095         0.606559\n",
       "4   6  1960.092471         0.582920\n",
       "5   7  1590.271342         0.520347\n",
       "6   8  1337.383848         0.494925\n",
       "7   9  1171.705865         0.467878\n",
       "8  10  1055.650951         0.455670"
      ]
     },
     "execution_count": 30,
     "metadata": {},
     "output_type": "execute_result"
    }
   ],
   "source": [
    "pd.DataFrame.from_dict(cluster_metrics)"
   ]
  },
  {
   "cell_type": "markdown",
   "metadata": {
    "colab_type": "text",
    "id": "-lMaUQrQc4qC"
   },
   "source": [
    "#### Plot for the SSE\n"
   ]
  },
  {
   "cell_type": "code",
   "execution_count": 31,
   "metadata": {
    "colab": {
     "base_uri": "https://localhost:8080/",
     "height": 295
    },
    "colab_type": "code",
    "id": "AWXGcJ90c4qE",
    "outputId": "623db77c-ed6b-4289-d2e9-23081453b977"
   },
   "outputs": [
    {
     "data": {
      "image/png": "[encoded data removed]",
      "text/plain": [
       "<Figure size 432x288 with 1 Axes>"
      ]
     },
     "metadata": {
      "needs_background": "light"
     },
     "output_type": "display_data"
    }
   ],
   "source": [
    "\n",
    "plt.title(\"Elbow Plot of SSE\")\n",
    "plt.xlabel('k')\n",
    "plt.ylabel('SSE')\n",
    "sns.pointplot(x =cluster_metrics['k'] ,y =  cluster_metrics['sse'])\n",
    "plt.show()"
   ]
  },
  {
   "cell_type": "markdown",
   "metadata": {
    "colab_type": "text",
    "id": "doYCA0yMc4qJ"
   },
   "source": [
    "* Selecting the number of Cluster through elbow plot the value of k should be 5"
   ]
  },
  {
   "cell_type": "code",
   "execution_count": 32,
   "metadata": {
    "colab": {},
    "colab_type": "code",
    "id": "ogsMunRAc4qJ"
   },
   "outputs": [],
   "source": [
    "kmeans = KMeans(n_clusters=5,random_state=123)"
   ]
  },
  {
   "cell_type": "code",
   "execution_count": 33,
   "metadata": {
    "colab": {},
    "colab_type": "code",
    "id": "Ee_1n3I-c4qM"
   },
   "outputs": [],
   "source": [
    "kmeans.fit(custlevelaggrfm_normalized)\n",
    "rfm_k5 = custlevelaggrfm.assign(Cluster = kmeans.labels_)"
   ]
  },
  {
   "cell_type": "code",
   "execution_count": 34,
   "metadata": {
    "colab": {
     "base_uri": "https://localhost:8080/",
     "height": 204
    },
    "colab_type": "code",
    "id": "ASWNiIHXc4qP",
    "outputId": "51861811-8bf7-4590-96ad-239840a0703a"
   },
   "outputs": [
    {
     "data": {
      "text/html": [
       "<div>\n",
       "<style scoped>\n",
       "    .dataframe tbody tr th:only-of-type {\n",
       "        vertical-align: middle;\n",
       "    }\n",
       "\n",
       "    .dataframe tbody tr th {\n",
       "        vertical-align: top;\n",
       "    }\n",
       "\n",
       "    .dataframe thead th {\n",
       "        text-align: right;\n",
       "    }\n",
       "</style>\n",
       "<table border=\"1\" class=\"dataframe\">\n",
       "  <thead>\n",
       "    <tr style=\"text-align: right;\">\n",
       "      <th></th>\n",
       "      <th>Recency</th>\n",
       "      <th>Frequency</th>\n",
       "      <th>Monetary</th>\n",
       "      <th>Cluster</th>\n",
       "    </tr>\n",
       "  </thead>\n",
       "  <tbody>\n",
       "    <tr>\n",
       "      <td>0</td>\n",
       "      <td>3</td>\n",
       "      <td>25</td>\n",
       "      <td>948.70</td>\n",
       "      <td>3</td>\n",
       "    </tr>\n",
       "    <tr>\n",
       "      <td>1</td>\n",
       "      <td>1</td>\n",
       "      <td>888</td>\n",
       "      <td>7046.16</td>\n",
       "      <td>2</td>\n",
       "    </tr>\n",
       "    <tr>\n",
       "      <td>2</td>\n",
       "      <td>4</td>\n",
       "      <td>37</td>\n",
       "      <td>813.45</td>\n",
       "      <td>3</td>\n",
       "    </tr>\n",
       "    <tr>\n",
       "      <td>3</td>\n",
       "      <td>4</td>\n",
       "      <td>17</td>\n",
       "      <td>268.02</td>\n",
       "      <td>3</td>\n",
       "    </tr>\n",
       "    <tr>\n",
       "      <td>4</td>\n",
       "      <td>71</td>\n",
       "      <td>9</td>\n",
       "      <td>146.15</td>\n",
       "      <td>3</td>\n",
       "    </tr>\n",
       "  </tbody>\n",
       "</table>\n",
       "</div>"
      ],
      "text/plain": [
       "   Recency  Frequency  Monetary  Cluster\n",
       "0        3         25    948.70        3\n",
       "1        1        888   7046.16        2\n",
       "2        4         37    813.45        3\n",
       "3        4         17    268.02        3\n",
       "4       71          9    146.15        3"
      ]
     },
     "execution_count": 34,
     "metadata": {},
     "output_type": "execute_result"
    }
   ],
   "source": [
    "rfm_k5.head()"
   ]
  },
  {
   "cell_type": "code",
   "execution_count": 35,
   "metadata": {
    "colab": {
     "base_uri": "https://localhost:8080/",
     "height": 266
    },
    "colab_type": "code",
    "id": "9TLxkQtic4qY",
    "outputId": "cccd613d-2551-462a-f167-4b291c82450d"
   },
   "outputs": [
    {
     "data": {
      "text/html": [
       "<div>\n",
       "<style scoped>\n",
       "    .dataframe tbody tr th:only-of-type {\n",
       "        vertical-align: middle;\n",
       "    }\n",
       "\n",
       "    .dataframe tbody tr th {\n",
       "        vertical-align: top;\n",
       "    }\n",
       "\n",
       "    .dataframe thead tr th {\n",
       "        text-align: left;\n",
       "    }\n",
       "\n",
       "    .dataframe thead tr:last-of-type th {\n",
       "        text-align: right;\n",
       "    }\n",
       "</style>\n",
       "<table border=\"1\" class=\"dataframe\">\n",
       "  <thead>\n",
       "    <tr>\n",
       "      <th></th>\n",
       "      <th>Recency</th>\n",
       "      <th>Frequency</th>\n",
       "      <th colspan=\"2\" halign=\"left\">Monetary</th>\n",
       "    </tr>\n",
       "    <tr>\n",
       "      <th></th>\n",
       "      <th>mean</th>\n",
       "      <th>mean</th>\n",
       "      <th>mean</th>\n",
       "      <th>count</th>\n",
       "    </tr>\n",
       "    <tr>\n",
       "      <th>Cluster</th>\n",
       "      <th></th>\n",
       "      <th></th>\n",
       "      <th></th>\n",
       "      <th></th>\n",
       "    </tr>\n",
       "  </thead>\n",
       "  <tbody>\n",
       "    <tr>\n",
       "      <td>0</td>\n",
       "      <td>15.027778</td>\n",
       "      <td>103.672222</td>\n",
       "      <td>2519.397833</td>\n",
       "      <td>180</td>\n",
       "    </tr>\n",
       "    <tr>\n",
       "      <td>1</td>\n",
       "      <td>235.036916</td>\n",
       "      <td>6.044517</td>\n",
       "      <td>106.879631</td>\n",
       "      <td>921</td>\n",
       "    </tr>\n",
       "    <tr>\n",
       "      <td>2</td>\n",
       "      <td>2.666667</td>\n",
       "      <td>1146.666667</td>\n",
       "      <td>9293.950000</td>\n",
       "      <td>3</td>\n",
       "    </tr>\n",
       "    <tr>\n",
       "      <td>3</td>\n",
       "      <td>43.461569</td>\n",
       "      <td>15.911707</td>\n",
       "      <td>270.559267</td>\n",
       "      <td>2537</td>\n",
       "    </tr>\n",
       "    <tr>\n",
       "      <td>4</td>\n",
       "      <td>6.500000</td>\n",
       "      <td>70.000000</td>\n",
       "      <td>42110.595000</td>\n",
       "      <td>2</td>\n",
       "    </tr>\n",
       "  </tbody>\n",
       "</table>\n",
       "</div>"
      ],
      "text/plain": [
       "            Recency    Frequency      Monetary      \n",
       "               mean         mean          mean count\n",
       "Cluster                                             \n",
       "0         15.027778   103.672222   2519.397833   180\n",
       "1        235.036916     6.044517    106.879631   921\n",
       "2          2.666667  1146.666667   9293.950000     3\n",
       "3         43.461569    15.911707    270.559267  2537\n",
       "4          6.500000    70.000000  42110.595000     2"
      ]
     },
     "execution_count": 35,
     "metadata": {},
     "output_type": "execute_result"
    }
   ],
   "source": [
    "rfm_k5.groupby('Cluster').agg({'Recency':'mean','Frequency':'mean','Monetary':['mean','count']})"
   ]
  },
  {
   "cell_type": "code",
   "execution_count": 36,
   "metadata": {
    "colab": {
     "base_uri": "https://localhost:8080/",
     "height": 119
    },
    "colab_type": "code",
    "id": "i6PWTtagc4qd",
    "outputId": "db8c101f-ed5a-41ab-eae5-73603cb45b8b"
   },
   "outputs": [
    {
     "data": {
      "text/plain": [
       "3    2537\n",
       "1     921\n",
       "0     180\n",
       "2       3\n",
       "4       2\n",
       "Name: Cluster, dtype: int64"
      ]
     },
     "execution_count": 36,
     "metadata": {},
     "output_type": "execute_result"
    }
   ],
   "source": [
    "rfm_k5['Cluster'].value_counts()"
   ]
  },
  {
   "cell_type": "code",
   "execution_count": 37,
   "metadata": {
    "colab": {},
    "colab_type": "code",
    "id": "nsWEJ0v3c4ql"
   },
   "outputs": [],
   "source": [
    "rfm_k5['Cluster'] = rfm_k5['Cluster'].astype('category')"
   ]
  },
  {
   "cell_type": "code",
   "execution_count": 38,
   "metadata": {
    "colab": {
     "base_uri": "https://localhost:8080/",
     "height": 542
    },
    "colab_type": "code",
    "id": "EMKaYs27c4qp",
    "outputId": "83d46cb9-a8f1-49d0-e8b6-145737b2701f"
   },
   "outputs": [],
   "source": [
    "import plotly.express as px\n",
    "fig = px.scatter_3d(rfm_k5, x='Recency', y='Frequency', z='Monetary',\n",
    "              color='Cluster')\n",
    "fig.write_html(\"image.html\")"
   ]
  },
  {
   "cell_type": "code",
   "execution_count": 39,
   "metadata": {
    "colab": {
     "base_uri": "https://localhost:8080/",
     "height": 34
    },
    "colab_type": "code",
    "id": "_goN1pxyq3X_",
    "outputId": "0def859e-7dd5-429a-a496-55ff6a6c02f0"
   },
   "outputs": [
    {
     "data": {
      "text/plain": [
       "Index(['CustomerID', 'Recency', 'Frequency', 'Monetary'], dtype='object')"
      ]
     },
     "execution_count": 39,
     "metadata": {},
     "output_type": "execute_result"
    }
   ],
   "source": [
    "custlevelagg.columns"
   ]
  },
  {
   "cell_type": "code",
   "execution_count": 51,
   "metadata": {
    "colab": {
     "base_uri": "https://localhost:8080/",
     "height": 1000
    },
    "colab_type": "code",
    "id": "f6GeBFW5c4qs",
    "outputId": "99f0864f-a93e-4ffb-dc9e-870e7951dc95"
   },
   "outputs": [
    {
     "data": {
      "application/javascript": [
       "/* Put everything inside the global mpl namespace */\n",
       "window.mpl = {};\n",
       "\n",
       "\n",
       "mpl.get_websocket_type = function() {\n",
       "    if (typeof(WebSocket) !== 'undefined') {\n",
       "        return WebSocket;\n",
       "    } else if (typeof(MozWebSocket) !== 'undefined') {\n",
       "        return MozWebSocket;\n",
       "    } else {\n",
       "        alert('Your browser does not have WebSocket support. ' +\n",
       "              'Please try Chrome, Safari or Firefox ≥ 6. ' +\n",
       "              'Firefox 4 and 5 are also supported but you ' +\n",
       "              'have to enable WebSockets in about:config.');\n",
       "    };\n",
       "}\n",
       "\n",
       "mpl.figure = function(figure_id, websocket, ondownload, parent_element) {\n",
       "    this.id = figure_id;\n",
       "\n",
       "    this.ws = websocket;\n",
       "\n",
       "    this.supports_binary = (this.ws.binaryType != undefined);\n",
       "\n",
       "    if (!this.supports_binary) {\n",
       "        var warnings = document.getElementById(\"mpl-warnings\");\n",
       "        if (warnings) {\n",
       "            warnings.style.display = 'block';\n",
       "            warnings.textContent = (\n",
       "                \"This browser does not support binary websocket messages. \" +\n",
       "                    \"Performance may be slow.\");\n",
       "        }\n",
       "    }\n",
       "\n",
       "    this.imageObj = new Image();\n",
       "\n",
       "    this.context = undefined;\n",
       "    this.message = undefined;\n",
       "    this.canvas = undefined;\n",
       "    this.rubberband_canvas = undefined;\n",
       "    this.rubberband_context = undefined;\n",
       "    this.format_dropdown = undefined;\n",
       "\n",
       "    this.image_mode = 'full';\n",
       "\n",
       "    this.root = $('<div/>');\n",
       "    this._root_extra_style(this.root)\n",
       "    this.root.attr('style', 'display: inline-block');\n",
       "\n",
       "    $(parent_element).append(this.root);\n",
       "\n",
       "    this._init_header(this);\n",
       "    this._init_canvas(this);\n",
       "    this._init_toolbar(this);\n",
       "\n",
       "    var fig = this;\n",
       "\n",
       "    this.waiting = false;\n",
       "\n",
       "    this.ws.onopen =  function () {\n",
       "            fig.send_message(\"supports_binary\", {value: fig.supports_binary});\n",
       "            fig.send_message(\"send_image_mode\", {});\n",
       "            if (mpl.ratio != 1) {\n",
       "                fig.send_message(\"set_dpi_ratio\", {'dpi_ratio': mpl.ratio});\n",
       "            }\n",
       "            fig.send_message(\"refresh\", {});\n",
       "        }\n",
       "\n",
       "    this.imageObj.onload = function() {\n",
       "            if (fig.image_mode == 'full') {\n",
       "                // Full images could contain transparency (where diff images\n",
       "                // almost always do), so we need to clear the canvas so that\n",
       "                // there is no ghosting.\n",
       "                fig.context.clearRect(0, 0, fig.canvas.width, fig.canvas.height);\n",
       "            }\n",
       "            fig.context.drawImage(fig.imageObj, 0, 0);\n",
       "        };\n",
       "\n",
       "    this.imageObj.onunload = function() {\n",
       "        fig.ws.close();\n",
       "    }\n",
       "\n",
       "    this.ws.onmessage = this._make_on_message_function(this);\n",
       "\n",
       "    this.ondownload = ondownload;\n",
       "}\n",
       "\n",
       "mpl.figure.prototype._init_header = function() {\n",
       "    var titlebar = $(\n",
       "        '<div class=\"ui-dialog-titlebar ui-widget-header ui-corner-all ' +\n",
       "        'ui-helper-clearfix\"/>');\n",
       "    var titletext = $(\n",
       "        '<div class=\"ui-dialog-title\" style=\"width: 100%; ' +\n",
       "        'text-align: center; padding: 3px;\"/>');\n",
       "    titlebar.append(titletext)\n",
       "    this.root.append(titlebar);\n",
       "    this.header = titletext[0];\n",
       "}\n",
       "\n",
       "\n",
       "\n",
       "mpl.figure.prototype._canvas_extra_style = function(canvas_div) {\n",
       "\n",
       "}\n",
       "\n",
       "\n",
       "mpl.figure.prototype._root_extra_style = function(canvas_div) {\n",
       "\n",
       "}\n",
       "\n",
       "mpl.figure.prototype._init_canvas = function() {\n",
       "    var fig = this;\n",
       "\n",
       "    var canvas_div = $('<div/>');\n",
       "\n",
       "    canvas_div.attr('style', 'position: relative; clear: both; outline: 0');\n",
       "\n",
       "    function canvas_keyboard_event(event) {\n",
       "        return fig.key_event(event, event['data']);\n",
       "    }\n",
       "\n",
       "    canvas_div.keydown('key_press', canvas_keyboard_event);\n",
       "    canvas_div.keyup('key_release', canvas_keyboard_event);\n",
       "    this.canvas_div = canvas_div\n",
       "    this._canvas_extra_style(canvas_div)\n",
       "    this.root.append(canvas_div);\n",
       "\n",
       "    var canvas = $('<canvas/>');\n",
       "    canvas.addClass('mpl-canvas');\n",
       "    canvas.attr('style', \"left: 0; top: 0; z-index: 0; outline: 0\")\n",
       "\n",
       "    this.canvas = canvas[0];\n",
       "    this.context = canvas[0].getContext(\"2d\");\n",
       "\n",
       "    var backingStore = this.context.backingStorePixelRatio ||\n",
       "\tthis.context.webkitBackingStorePixelRatio ||\n",
       "\tthis.context.mozBackingStorePixelRatio ||\n",
       "\tthis.context.msBackingStorePixelRatio ||\n",
       "\tthis.context.oBackingStorePixelRatio ||\n",
       "\tthis.context.backingStorePixelRatio || 1;\n",
       "\n",
       "    mpl.ratio = (window.devicePixelRatio || 1) / backingStore;\n",
       "\n",
       "    var rubberband = $('<canvas/>');\n",
       "    rubberband.attr('style', \"position: absolute; left: 0; top: 0; z-index: 1;\")\n",
       "\n",
       "    var pass_mouse_events = true;\n",
       "\n",
       "    canvas_div.resizable({\n",
       "        start: function(event, ui) {\n",
       "            pass_mouse_events = false;\n",
       "        },\n",
       "        resize: function(event, ui) {\n",
       "            fig.request_resize(ui.size.width, ui.size.height);\n",
       "        },\n",
       "        stop: function(event, ui) {\n",
       "            pass_mouse_events = true;\n",
       "            fig.request_resize(ui.size.width, ui.size.height);\n",
       "        },\n",
       "    });\n",
       "\n",
       "    function mouse_event_fn(event) {\n",
       "        if (pass_mouse_events)\n",
       "            return fig.mouse_event(event, event['data']);\n",
       "    }\n",
       "\n",
       "    rubberband.mousedown('button_press', mouse_event_fn);\n",
       "    rubberband.mouseup('button_release', mouse_event_fn);\n",
       "    // Throttle sequential mouse events to 1 every 20ms.\n",
       "    rubberband.mousemove('motion_notify', mouse_event_fn);\n",
       "\n",
       "    rubberband.mouseenter('figure_enter', mouse_event_fn);\n",
       "    rubberband.mouseleave('figure_leave', mouse_event_fn);\n",
       "\n",
       "    canvas_div.on(\"wheel\", function (event) {\n",
       "        event = event.originalEvent;\n",
       "        event['data'] = 'scroll'\n",
       "        if (event.deltaY < 0) {\n",
       "            event.step = 1;\n",
       "        } else {\n",
       "            event.step = -1;\n",
       "        }\n",
       "        mouse_event_fn(event);\n",
       "    });\n",
       "\n",
       "    canvas_div.append(canvas);\n",
       "    canvas_div.append(rubberband);\n",
       "\n",
       "    this.rubberband = rubberband;\n",
       "    this.rubberband_canvas = rubberband[0];\n",
       "    this.rubberband_context = rubberband[0].getContext(\"2d\");\n",
       "    this.rubberband_context.strokeStyle = \"#000000\";\n",
       "\n",
       "    this._resize_canvas = function(width, height) {\n",
       "        // Keep the size of the canvas, canvas container, and rubber band\n",
       "        // canvas in synch.\n",
       "        canvas_div.css('width', width)\n",
       "        canvas_div.css('height', height)\n",
       "\n",
       "        canvas.attr('width', width * mpl.ratio);\n",
       "        canvas.attr('height', height * mpl.ratio);\n",
       "        canvas.attr('style', 'width: ' + width + 'px; height: ' + height + 'px;');\n",
       "\n",
       "        rubberband.attr('width', width);\n",
       "        rubberband.attr('height', height);\n",
       "    }\n",
       "\n",
       "    // Set the figure to an initial 600x600px, this will subsequently be updated\n",
       "    // upon first draw.\n",
       "    this._resize_canvas(600, 600);\n",
       "\n",
       "    // Disable right mouse context menu.\n",
       "    $(this.rubberband_canvas).bind(\"contextmenu\",function(e){\n",
       "        return false;\n",
       "    });\n",
       "\n",
       "    function set_focus () {\n",
       "        canvas.focus();\n",
       "        canvas_div.focus();\n",
       "    }\n",
       "\n",
       "    window.setTimeout(set_focus, 100);\n",
       "}\n",
       "\n",
       "mpl.figure.prototype._init_toolbar = function() {\n",
       "    var fig = this;\n",
       "\n",
       "    var nav_element = $('<div/>');\n",
       "    nav_element.attr('style', 'width: 100%');\n",
       "    this.root.append(nav_element);\n",
       "\n",
       "    // Define a callback function for later on.\n",
       "    function toolbar_event(event) {\n",
       "        return fig.toolbar_button_onclick(event['data']);\n",
       "    }\n",
       "    function toolbar_mouse_event(event) {\n",
       "        return fig.toolbar_button_onmouseover(event['data']);\n",
       "    }\n",
       "\n",
       "    for(var toolbar_ind in mpl.toolbar_items) {\n",
       "        var name = mpl.toolbar_items[toolbar_ind][0];\n",
       "        var tooltip = mpl.toolbar_items[toolbar_ind][1];\n",
       "        var image = mpl.toolbar_items[toolbar_ind][2];\n",
       "        var method_name = mpl.toolbar_items[toolbar_ind][3];\n",
       "\n",
       "        if (!name) {\n",
       "            // put a spacer in here.\n",
       "            continue;\n",
       "        }\n",
       "        var button = $('<button/>');\n",
       "        button.addClass('ui-button ui-widget ui-state-default ui-corner-all ' +\n",
       "                        'ui-button-icon-only');\n",
       "        button.attr('role', 'button');\n",
       "        button.attr('aria-disabled', 'false');\n",
       "        button.click(method_name, toolbar_event);\n",
       "        button.mouseover(tooltip, toolbar_mouse_event);\n",
       "\n",
       "        var icon_img = $('<span/>');\n",
       "        icon_img.addClass('ui-button-icon-primary ui-icon');\n",
       "        icon_img.addClass(image);\n",
       "        icon_img.addClass('ui-corner-all');\n",
       "\n",
       "        var tooltip_span = $('<span/>');\n",
       "        tooltip_span.addClass('ui-button-text');\n",
       "        tooltip_span.html(tooltip);\n",
       "\n",
       "        button.append(icon_img);\n",
       "        button.append(tooltip_span);\n",
       "\n",
       "        nav_element.append(button);\n",
       "    }\n",
       "\n",
       "    var fmt_picker_span = $('<span/>');\n",
       "\n",
       "    var fmt_picker = $('<select/>');\n",
       "    fmt_picker.addClass('mpl-toolbar-option ui-widget ui-widget-content');\n",
       "    fmt_picker_span.append(fmt_picker);\n",
       "    nav_element.append(fmt_picker_span);\n",
       "    this.format_dropdown = fmt_picker[0];\n",
       "\n",
       "    for (var ind in mpl.extensions) {\n",
       "        var fmt = mpl.extensions[ind];\n",
       "        var option = $(\n",
       "            '<option/>', {selected: fmt === mpl.default_extension}).html(fmt);\n",
       "        fmt_picker.append(option);\n",
       "    }\n",
       "\n",
       "    // Add hover states to the ui-buttons\n",
       "    $( \".ui-button\" ).hover(\n",
       "        function() { $(this).addClass(\"ui-state-hover\");},\n",
       "        function() { $(this).removeClass(\"ui-state-hover\");}\n",
       "    );\n",
       "\n",
       "    var status_bar = $('<span class=\"mpl-message\"/>');\n",
       "    nav_element.append(status_bar);\n",
       "    this.message = status_bar[0];\n",
       "}\n",
       "\n",
       "mpl.figure.prototype.request_resize = function(x_pixels, y_pixels) {\n",
       "    // Request matplotlib to resize the figure. Matplotlib will then trigger a resize in the client,\n",
       "    // which will in turn request a refresh of the image.\n",
       "    this.send_message('resize', {'width': x_pixels, 'height': y_pixels});\n",
       "}\n",
       "\n",
       "mpl.figure.prototype.send_message = function(type, properties) {\n",
       "    properties['type'] = type;\n",
       "    properties['figure_id'] = this.id;\n",
       "    this.ws.send(JSON.stringify(properties));\n",
       "}\n",
       "\n",
       "mpl.figure.prototype.send_draw_message = function() {\n",
       "    if (!this.waiting) {\n",
       "        this.waiting = true;\n",
       "        this.ws.send(JSON.stringify({type: \"draw\", figure_id: this.id}));\n",
       "    }\n",
       "}\n",
       "\n",
       "\n",
       "mpl.figure.prototype.handle_save = function(fig, msg) {\n",
       "    var format_dropdown = fig.format_dropdown;\n",
       "    var format = format_dropdown.options[format_dropdown.selectedIndex].value;\n",
       "    fig.ondownload(fig, format);\n",
       "}\n",
       "\n",
       "\n",
       "mpl.figure.prototype.handle_resize = function(fig, msg) {\n",
       "    var size = msg['size'];\n",
       "    if (size[0] != fig.canvas.width || size[1] != fig.canvas.height) {\n",
       "        fig._resize_canvas(size[0], size[1]);\n",
       "        fig.send_message(\"refresh\", {});\n",
       "    };\n",
       "}\n",
       "\n",
       "mpl.figure.prototype.handle_rubberband = function(fig, msg) {\n",
       "    var x0 = msg['x0'] / mpl.ratio;\n",
       "    var y0 = (fig.canvas.height - msg['y0']) / mpl.ratio;\n",
       "    var x1 = msg['x1'] / mpl.ratio;\n",
       "    var y1 = (fig.canvas.height - msg['y1']) / mpl.ratio;\n",
       "    x0 = Math.floor(x0) + 0.5;\n",
       "    y0 = Math.floor(y0) + 0.5;\n",
       "    x1 = Math.floor(x1) + 0.5;\n",
       "    y1 = Math.floor(y1) + 0.5;\n",
       "    var min_x = Math.min(x0, x1);\n",
       "    var min_y = Math.min(y0, y1);\n",
       "    var width = Math.abs(x1 - x0);\n",
       "    var height = Math.abs(y1 - y0);\n",
       "\n",
       "    fig.rubberband_context.clearRect(\n",
       "        0, 0, fig.canvas.width / mpl.ratio, fig.canvas.height / mpl.ratio);\n",
       "\n",
       "    fig.rubberband_context.strokeRect(min_x, min_y, width, height);\n",
       "}\n",
       "\n",
       "mpl.figure.prototype.handle_figure_label = function(fig, msg) {\n",
       "    // Updates the figure title.\n",
       "    fig.header.textContent = msg['label'];\n",
       "}\n",
       "\n",
       "mpl.figure.prototype.handle_cursor = function(fig, msg) {\n",
       "    var cursor = msg['cursor'];\n",
       "    switch(cursor)\n",
       "    {\n",
       "    case 0:\n",
       "        cursor = 'pointer';\n",
       "        break;\n",
       "    case 1:\n",
       "        cursor = 'default';\n",
       "        break;\n",
       "    case 2:\n",
       "        cursor = 'crosshair';\n",
       "        break;\n",
       "    case 3:\n",
       "        cursor = 'move';\n",
       "        break;\n",
       "    }\n",
       "    fig.rubberband_canvas.style.cursor = cursor;\n",
       "}\n",
       "\n",
       "mpl.figure.prototype.handle_message = function(fig, msg) {\n",
       "    fig.message.textContent = msg['message'];\n",
       "}\n",
       "\n",
       "mpl.figure.prototype.handle_draw = function(fig, msg) {\n",
       "    // Request the server to send over a new figure.\n",
       "    fig.send_draw_message();\n",
       "}\n",
       "\n",
       "mpl.figure.prototype.handle_image_mode = function(fig, msg) {\n",
       "    fig.image_mode = msg['mode'];\n",
       "}\n",
       "\n",
       "mpl.figure.prototype.updated_canvas_event = function() {\n",
       "    // Called whenever the canvas gets updated.\n",
       "    this.send_message(\"ack\", {});\n",
       "}\n",
       "\n",
       "// A function to construct a web socket function for onmessage handling.\n",
       "// Called in the figure constructor.\n",
       "mpl.figure.prototype._make_on_message_function = function(fig) {\n",
       "    return function socket_on_message(evt) {\n",
       "        if (evt.data instanceof Blob) {\n",
       "            /* FIXME: We get \"Resource interpreted as Image but\n",
       "             * transferred with MIME type text/plain:\" errors on\n",
       "             * Chrome.  But how to set the MIME type?  It doesn't seem\n",
       "             * to be part of the websocket stream */\n",
       "            evt.data.type = \"image/png\";\n",
       "\n",
       "            /* Free the memory for the previous frames */\n",
       "            if (fig.imageObj.src) {\n",
       "                (window.URL || window.webkitURL).revokeObjectURL(\n",
       "                    fig.imageObj.src);\n",
       "            }\n",
       "\n",
       "            fig.imageObj.src = (window.URL || window.webkitURL).createObjectURL(\n",
       "                evt.data);\n",
       "            fig.updated_canvas_event();\n",
       "            fig.waiting = false;\n",
       "            return;\n",
       "        }\n",
       "        else if (typeof evt.data === 'string' && evt.data.slice(0, 21) == \"data:image/png;base64\") {\n",
       "            fig.imageObj.src = evt.data;\n",
       "            fig.updated_canvas_event();\n",
       "            fig.waiting = false;\n",
       "            return;\n",
       "        }\n",
       "\n",
       "        var msg = JSON.parse(evt.data);\n",
       "        var msg_type = msg['type'];\n",
       "\n",
       "        // Call the  \"handle_{type}\" callback, which takes\n",
       "        // the figure and JSON message as its only arguments.\n",
       "        try {\n",
       "            var callback = fig[\"handle_\" + msg_type];\n",
       "        } catch (e) {\n",
       "            console.log(\"No handler for the '\" + msg_type + \"' message type: \", msg);\n",
       "            return;\n",
       "        }\n",
       "\n",
       "        if (callback) {\n",
       "            try {\n",
       "                // console.log(\"Handling '\" + msg_type + \"' message: \", msg);\n",
       "                callback(fig, msg);\n",
       "            } catch (e) {\n",
       "                console.log(\"Exception inside the 'handler_\" + msg_type + \"' callback:\", e, e.stack, msg);\n",
       "            }\n",
       "        }\n",
       "    };\n",
       "}\n",
       "\n",
       "// from http://stackoverflow.com/questions/1114465/getting-mouse-location-in-canvas\n",
       "mpl.findpos = function(e) {\n",
       "    //this section is from http://www.quirksmode.org/js/events_properties.html\n",
       "    var targ;\n",
       "    if (!e)\n",
       "        e = window.event;\n",
       "    if (e.target)\n",
       "        targ = e.target;\n",
       "    else if (e.srcElement)\n",
       "        targ = e.srcElement;\n",
       "    if (targ.nodeType == 3) // defeat Safari bug\n",
       "        targ = targ.parentNode;\n",
       "\n",
       "    // jQuery normalizes the pageX and pageY\n",
       "    // pageX,Y are the mouse positions relative to the document\n",
       "    // offset() returns the position of the element relative to the document\n",
       "    var x = e.pageX - $(targ).offset().left;\n",
       "    var y = e.pageY - $(targ).offset().top;\n",
       "\n",
       "    return {\"x\": x, \"y\": y};\n",
       "};\n",
       "\n",
       "/*\n",
       " * return a copy of an object with only non-object keys\n",
       " * we need this to avoid circular references\n",
       " * http://stackoverflow.com/a/24161582/3208463\n",
       " */\n",
       "function simpleKeys (original) {\n",
       "  return Object.keys(original).reduce(function (obj, key) {\n",
       "    if (typeof original[key] !== 'object')\n",
       "        obj[key] = original[key]\n",
       "    return obj;\n",
       "  }, {});\n",
       "}\n",
       "\n",
       "mpl.figure.prototype.mouse_event = function(event, name) {\n",
       "    var canvas_pos = mpl.findpos(event)\n",
       "\n",
       "    if (name === 'button_press')\n",
       "    {\n",
       "        this.canvas.focus();\n",
       "        this.canvas_div.focus();\n",
       "    }\n",
       "\n",
       "    var x = canvas_pos.x * mpl.ratio;\n",
       "    var y = canvas_pos.y * mpl.ratio;\n",
       "\n",
       "    this.send_message(name, {x: x, y: y, button: event.button,\n",
       "                             step: event.step,\n",
       "                             guiEvent: simpleKeys(event)});\n",
       "\n",
       "    /* This prevents the web browser from automatically changing to\n",
       "     * the text insertion cursor when the button is pressed.  We want\n",
       "     * to control all of the cursor setting manually through the\n",
       "     * 'cursor' event from matplotlib */\n",
       "    event.preventDefault();\n",
       "    return false;\n",
       "}\n",
       "\n",
       "mpl.figure.prototype._key_event_extra = function(event, name) {\n",
       "    // Handle any extra behaviour associated with a key event\n",
       "}\n",
       "\n",
       "mpl.figure.prototype.key_event = function(event, name) {\n",
       "\n",
       "    // Prevent repeat events\n",
       "    if (name == 'key_press')\n",
       "    {\n",
       "        if (event.which === this._key)\n",
       "            return;\n",
       "        else\n",
       "            this._key = event.which;\n",
       "    }\n",
       "    if (name == 'key_release')\n",
       "        this._key = null;\n",
       "\n",
       "    var value = '';\n",
       "    if (event.ctrlKey && event.which != 17)\n",
       "        value += \"ctrl+\";\n",
       "    if (event.altKey && event.which != 18)\n",
       "        value += \"alt+\";\n",
       "    if (event.shiftKey && event.which != 16)\n",
       "        value += \"shift+\";\n",
       "\n",
       "    value += 'k';\n",
       "    value += event.which.toString();\n",
       "\n",
       "    this._key_event_extra(event, name);\n",
       "\n",
       "    this.send_message(name, {key: value,\n",
       "                             guiEvent: simpleKeys(event)});\n",
       "    return false;\n",
       "}\n",
       "\n",
       "mpl.figure.prototype.toolbar_button_onclick = function(name) {\n",
       "    if (name == 'download') {\n",
       "        this.handle_save(this, null);\n",
       "    } else {\n",
       "        this.send_message(\"toolbar_button\", {name: name});\n",
       "    }\n",
       "};\n",
       "\n",
       "mpl.figure.prototype.toolbar_button_onmouseover = function(tooltip) {\n",
       "    this.message.textContent = tooltip;\n",
       "};\n",
       "mpl.toolbar_items = [[\"Home\", \"Reset original view\", \"fa fa-home icon-home\", \"home\"], [\"Back\", \"Back to previous view\", \"fa fa-arrow-left icon-arrow-left\", \"back\"], [\"Forward\", \"Forward to next view\", \"fa fa-arrow-right icon-arrow-right\", \"forward\"], [\"\", \"\", \"\", \"\"], [\"Pan\", \"Pan axes with left mouse, zoom with right\", \"fa fa-arrows icon-move\", \"pan\"], [\"Zoom\", \"Zoom to rectangle\", \"fa fa-square-o icon-check-empty\", \"zoom\"], [\"\", \"\", \"\", \"\"], [\"Download\", \"Download plot\", \"fa fa-floppy-o icon-save\", \"download\"]];\n",
       "\n",
       "mpl.extensions = [\"eps\", \"jpeg\", \"pdf\", \"png\", \"ps\", \"raw\", \"svg\", \"tif\"];\n",
       "\n",
       "mpl.default_extension = \"png\";var comm_websocket_adapter = function(comm) {\n",
       "    // Create a \"websocket\"-like object which calls the given IPython comm\n",
       "    // object with the appropriate methods. Currently this is a non binary\n",
       "    // socket, so there is still some room for performance tuning.\n",
       "    var ws = {};\n",
       "\n",
       "    ws.close = function() {\n",
       "        comm.close()\n",
       "    };\n",
       "    ws.send = function(m) {\n",
       "        //console.log('sending', m);\n",
       "        comm.send(m);\n",
       "    };\n",
       "    // Register the callback with on_msg.\n",
       "    comm.on_msg(function(msg) {\n",
       "        //console.log('receiving', msg['content']['data'], msg);\n",
       "        // Pass the mpl event to the overridden (by mpl) onmessage function.\n",
       "        ws.onmessage(msg['content']['data'])\n",
       "    });\n",
       "    return ws;\n",
       "}\n",
       "\n",
       "mpl.mpl_figure_comm = function(comm, msg) {\n",
       "    // This is the function which gets called when the mpl process\n",
       "    // starts-up an IPython Comm through the \"matplotlib\" channel.\n",
       "\n",
       "    var id = msg.content.data.id;\n",
       "    // Get hold of the div created by the display call when the Comm\n",
       "    // socket was opened in Python.\n",
       "    var element = $(\"#\" + id);\n",
       "    var ws_proxy = comm_websocket_adapter(comm)\n",
       "\n",
       "    function ondownload(figure, format) {\n",
       "        window.open(figure.imageObj.src);\n",
       "    }\n",
       "\n",
       "    var fig = new mpl.figure(id, ws_proxy,\n",
       "                           ondownload,\n",
       "                           element.get(0));\n",
       "\n",
       "    // Call onopen now - mpl needs it, as it is assuming we've passed it a real\n",
       "    // web socket which is closed, not our websocket->open comm proxy.\n",
       "    ws_proxy.onopen();\n",
       "\n",
       "    fig.parent_element = element.get(0);\n",
       "    fig.cell_info = mpl.find_output_cell(\"<div id='\" + id + \"'></div>\");\n",
       "    if (!fig.cell_info) {\n",
       "        console.error(\"Failed to find cell for figure\", id, fig);\n",
       "        return;\n",
       "    }\n",
       "\n",
       "    var output_index = fig.cell_info[2]\n",
       "    var cell = fig.cell_info[0];\n",
       "\n",
       "};\n",
       "\n",
       "mpl.figure.prototype.handle_close = function(fig, msg) {\n",
       "    var width = fig.canvas.width/mpl.ratio\n",
       "    fig.root.unbind('remove')\n",
       "\n",
       "    // Update the output cell to use the data from the current canvas.\n",
       "    fig.push_to_output();\n",
       "    var dataURL = fig.canvas.toDataURL();\n",
       "    // Re-enable the keyboard manager in IPython - without this line, in FF,\n",
       "    // the notebook keyboard shortcuts fail.\n",
       "    IPython.keyboard_manager.enable()\n",
       "    $(fig.parent_element).html('<img src=\"' + dataURL + '\" width=\"' + width + '\">');\n",
       "    fig.close_ws(fig, msg);\n",
       "}\n",
       "\n",
       "mpl.figure.prototype.close_ws = function(fig, msg){\n",
       "    fig.send_message('closing', msg);\n",
       "    // fig.ws.close()\n",
       "}\n",
       "\n",
       "mpl.figure.prototype.push_to_output = function(remove_interactive) {\n",
       "    // Turn the data on the canvas into data in the output cell.\n",
       "    var width = this.canvas.width/mpl.ratio\n",
       "    var dataURL = this.canvas.toDataURL();\n",
       "    this.cell_info[1]['text/html'] = '<img src=\"' + dataURL + '\" width=\"' + width + '\">';\n",
       "}\n",
       "\n",
       "mpl.figure.prototype.updated_canvas_event = function() {\n",
       "    // Tell IPython that the notebook contents must change.\n",
       "    IPython.notebook.set_dirty(true);\n",
       "    this.send_message(\"ack\", {});\n",
       "    var fig = this;\n",
       "    // Wait a second, then push the new image to the DOM so\n",
       "    // that it is saved nicely (might be nice to debounce this).\n",
       "    setTimeout(function () { fig.push_to_output() }, 1000);\n",
       "}\n",
       "\n",
       "mpl.figure.prototype._init_toolbar = function() {\n",
       "    var fig = this;\n",
       "\n",
       "    var nav_element = $('<div/>');\n",
       "    nav_element.attr('style', 'width: 100%');\n",
       "    this.root.append(nav_element);\n",
       "\n",
       "    // Define a callback function for later on.\n",
       "    function toolbar_event(event) {\n",
       "        return fig.toolbar_button_onclick(event['data']);\n",
       "    }\n",
       "    function toolbar_mouse_event(event) {\n",
       "        return fig.toolbar_button_onmouseover(event['data']);\n",
       "    }\n",
       "\n",
       "    for(var toolbar_ind in mpl.toolbar_items){\n",
       "        var name = mpl.toolbar_items[toolbar_ind][0];\n",
       "        var tooltip = mpl.toolbar_items[toolbar_ind][1];\n",
       "        var image = mpl.toolbar_items[toolbar_ind][2];\n",
       "        var method_name = mpl.toolbar_items[toolbar_ind][3];\n",
       "\n",
       "        if (!name) { continue; };\n",
       "\n",
       "        var button = $('<button class=\"btn btn-default\" href=\"#\" title=\"' + name + '\"><i class=\"fa ' + image + ' fa-lg\"></i></button>');\n",
       "        button.click(method_name, toolbar_event);\n",
       "        button.mouseover(tooltip, toolbar_mouse_event);\n",
       "        nav_element.append(button);\n",
       "    }\n",
       "\n",
       "    // Add the status bar.\n",
       "    var status_bar = $('<span class=\"mpl-message\" style=\"text-align:right; float: right;\"/>');\n",
       "    nav_element.append(status_bar);\n",
       "    this.message = status_bar[0];\n",
       "\n",
       "    // Add the close button to the window.\n",
       "    var buttongrp = $('<div class=\"btn-group inline pull-right\"></div>');\n",
       "    var button = $('<button class=\"btn btn-mini btn-primary\" href=\"#\" title=\"Stop Interaction\"><i class=\"fa fa-power-off icon-remove icon-large\"></i></button>');\n",
       "    button.click(function (evt) { fig.handle_close(fig, {}); } );\n",
       "    button.mouseover('Stop Interaction', toolbar_mouse_event);\n",
       "    buttongrp.append(button);\n",
       "    var titlebar = this.root.find($('.ui-dialog-titlebar'));\n",
       "    titlebar.prepend(buttongrp);\n",
       "}\n",
       "\n",
       "mpl.figure.prototype._root_extra_style = function(el){\n",
       "    var fig = this\n",
       "    el.on(\"remove\", function(){\n",
       "\tfig.close_ws(fig, {});\n",
       "    });\n",
       "}\n",
       "\n",
       "mpl.figure.prototype._canvas_extra_style = function(el){\n",
       "    // this is important to make the div 'focusable\n",
       "    el.attr('tabindex', 0)\n",
       "    // reach out to IPython and tell the keyboard manager to turn it's self\n",
       "    // off when our div gets focus\n",
       "\n",
       "    // location in version 3\n",
       "    if (IPython.notebook.keyboard_manager) {\n",
       "        IPython.notebook.keyboard_manager.register_events(el);\n",
       "    }\n",
       "    else {\n",
       "        // location in version 2\n",
       "        IPython.keyboard_manager.register_events(el);\n",
       "    }\n",
       "\n",
       "}\n",
       "\n",
       "mpl.figure.prototype._key_event_extra = function(event, name) {\n",
       "    var manager = IPython.notebook.keyboard_manager;\n",
       "    if (!manager)\n",
       "        manager = IPython.keyboard_manager;\n",
       "\n",
       "    // Check for shift+enter\n",
       "    if (event.shiftKey && event.which == 13) {\n",
       "        this.canvas_div.blur();\n",
       "        event.shiftKey = false;\n",
       "        // Send a \"J\" for go to next cell\n",
       "        event.which = 74;\n",
       "        event.keyCode = 74;\n",
       "        manager.command_mode();\n",
       "        manager.handle_keydown(event);\n",
       "    }\n",
       "}\n",
       "\n",
       "mpl.figure.prototype.handle_save = function(fig, msg) {\n",
       "    fig.ondownload(fig, null);\n",
       "}\n",
       "\n",
       "\n",
       "mpl.find_output_cell = function(html_output) {\n",
       "    // Return the cell and output element which can be found *uniquely* in the notebook.\n",
       "    // Note - this is a bit hacky, but it is done because the \"notebook_saving.Notebook\"\n",
       "    // IPython event is triggered only after the cells have been serialised, which for\n",
       "    // our purposes (turning an active figure into a static one), is too late.\n",
       "    var cells = IPython.notebook.get_cells();\n",
       "    var ncells = cells.length;\n",
       "    for (var i=0; i<ncells; i++) {\n",
       "        var cell = cells[i];\n",
       "        if (cell.cell_type === 'code'){\n",
       "            for (var j=0; j<cell.output_area.outputs.length; j++) {\n",
       "                var data = cell.output_area.outputs[j];\n",
       "                if (data.data) {\n",
       "                    // IPython >= 3 moved mimebundle to data attribute of output\n",
       "                    data = data.data;\n",
       "                }\n",
       "                if (data['text/html'] == html_output) {\n",
       "                    return [cell, data, j];\n",
       "                }\n",
       "            }\n",
       "        }\n",
       "    }\n",
       "}\n",
       "\n",
       "// Register the function which deals with the matplotlib target/channel.\n",
       "// The kernel may be null if the page has been refreshed.\n",
       "if (IPython.notebook.kernel != null) {\n",
       "    IPython.notebook.kernel.comm_manager.register_target('matplotlib', mpl.mpl_figure_comm);\n",
       "}\n"
      ],
      "text/plain": [
       "<IPython.core.display.Javascript object>"
      ]
     },
     "metadata": {},
     "output_type": "display_data"
    },
    {
     "data": {
      "text/html": [
       "<img src=\"data:image/png;base64,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\" width=\"432\">"
      ],
      "text/plain": [
       "<IPython.core.display.HTML object>"
      ]
     },
     "metadata": {},
     "output_type": "display_data"
    }
   ],
   "source": [
    "%matplotlib notebook\n",
    "#Import Linkage and Dendrogram from scipy library.\n",
    "\n",
    "from scipy.cluster.hierarchy import linkage, dendrogram\n",
    "#2. Build the linkage matrix for the data.\n",
    "linkage_matrix = linkage(custlevelaggrfm,method='ward',metric='euclidean')\n",
    "#3. Using the linkage matrix build the Dendrogram.\n",
    "dendrogram(linkage_matrix,labels=custlevelagg['CustomerID'].values)\n",
    "#4. What is the ideal number of clusters from the above plot?\n",
    "#5. Import Heirchal clustering from Sklearn.\n",
    "plt.show()"
   ]
  },
  {
   "cell_type": "code",
   "execution_count": 41,
   "metadata": {
    "colab": {
     "base_uri": "https://localhost:8080/",
     "height": 68
    },
    "colab_type": "code",
    "id": "VFmyZbgLc4qw",
    "outputId": "304c36e1-6014-4482-cc93-4e125e1916fc"
   },
   "outputs": [
    {
     "name": "stdout",
     "output_type": "stream",
     "text": [
      "Compute Structured hierarchical clustering...\n",
      "Elapsed time: 0.34s\n",
      "Number of points: 3643\n"
     ]
    }
   ],
   "source": [
    "import time as time\n",
    "import numpy as np\n",
    "import matplotlib.pyplot as plt\n",
    "import mpl_toolkits.mplot3d.axes3d as p3\n",
    "from sklearn.cluster import AgglomerativeClustering\n",
    "print(\"Compute Structured hierarchical clustering...\")\n",
    "st = time.time()\n",
    "ward = AgglomerativeClustering(n_clusters=3, linkage='ward').fit(custlevelaggrfm_normalized)\n",
    "elapsed_time = time.time() - st\n",
    "label = ward.labels_\n",
    "print(\"Elapsed time: %.2fs\" % elapsed_time)\n",
    "print(\"Number of points: %i\" % label.size)\n"
   ]
  },
  {
   "cell_type": "markdown",
   "metadata": {
    "colab_type": "text",
    "id": "RnG5afIS4U8h"
   },
   "source": [
    "#### DBScan Clustering"
   ]
  },
  {
   "cell_type": "code",
   "execution_count": 42,
   "metadata": {
    "colab": {},
    "colab_type": "code",
    "id": "sgqs3ztKc4q6"
   },
   "outputs": [],
   "source": [
    "from sklearn.cluster import DBSCAN"
   ]
  },
  {
   "cell_type": "code",
   "execution_count": 43,
   "metadata": {
    "colab": {},
    "colab_type": "code",
    "id": "GHGOqb4q4dRO"
   },
   "outputs": [],
   "source": [
    "cluster  = DBSCAN(metric='euclidean')"
   ]
  },
  {
   "cell_type": "code",
   "execution_count": 44,
   "metadata": {
    "colab": {
     "base_uri": "https://localhost:8080/",
     "height": 51
    },
    "colab_type": "code",
    "id": "fuj2UM2f4lcX",
    "outputId": "b15cde34-9a7b-4bca-e5a7-f49eb5fb8482"
   },
   "outputs": [
    {
     "data": {
      "text/plain": [
       "DBSCAN(algorithm='auto', eps=0.5, leaf_size=30, metric='euclidean',\n",
       "       metric_params=None, min_samples=5, n_jobs=None, p=None)"
      ]
     },
     "execution_count": 44,
     "metadata": {},
     "output_type": "execute_result"
    }
   ],
   "source": [
    "cluster.fit(custlevelaggrfm_normalized)"
   ]
  },
  {
   "cell_type": "code",
   "execution_count": 45,
   "metadata": {
    "colab": {},
    "colab_type": "code",
    "id": "UU73Dvud5IOV"
   },
   "outputs": [],
   "source": [
    "labels = cluster.labels_"
   ]
  },
  {
   "cell_type": "code",
   "execution_count": 46,
   "metadata": {},
   "outputs": [
    {
     "data": {
      "text/plain": [
       "array([-1,  0,  1,  2])"
      ]
     },
     "execution_count": 46,
     "metadata": {},
     "output_type": "execute_result"
    }
   ],
   "source": [
    "np.unique(labels)"
   ]
  },
  {
   "cell_type": "code",
   "execution_count": 47,
   "metadata": {
    "colab": {
     "base_uri": "https://localhost:8080/",
     "height": 34
    },
    "colab_type": "code",
    "id": "QUYTWPyY5qXw",
    "outputId": "ee694b14-3cae-48be-fd05-4c92766c4da7"
   },
   "outputs": [
    {
     "data": {
      "text/plain": [
       "3643"
      ]
     },
     "execution_count": 47,
     "metadata": {},
     "output_type": "execute_result"
    }
   ],
   "source": [
    "len(labels)"
   ]
  },
  {
   "cell_type": "code",
   "execution_count": 48,
   "metadata": {
    "colab": {},
    "colab_type": "code",
    "id": "9O9bdmIF4pq5"
   },
   "outputs": [],
   "source": [
    "dbscan_rfm = custlevelaggrfm.assign(Cluster = labels)"
   ]
  },
  {
   "cell_type": "code",
   "execution_count": 49,
   "metadata": {
    "colab": {
     "base_uri": "https://localhost:8080/",
     "height": 85
    },
    "colab_type": "code",
    "id": "RxtTAfE45V-N",
    "outputId": "eccdfc29-a9f6-42f0-a7b4-42b189958923"
   },
   "outputs": [
    {
     "data": {
      "text/plain": [
       " 0    3585\n",
       "-1      48\n",
       " 1       5\n",
       " 2       5\n",
       "Name: Cluster, dtype: int64"
      ]
     },
     "execution_count": 49,
     "metadata": {},
     "output_type": "execute_result"
    }
   ],
   "source": [
    "dbscan_rfm.Cluster.value_counts()"
   ]
  },
  {
   "cell_type": "code",
   "execution_count": null,
   "metadata": {
    "colab": {},
    "colab_type": "code",
    "id": "2pWWjKHp6vMg"
   },
   "outputs": [],
   "source": []
  }
 ],
 "metadata": {
  "accelerator": "GPU",
  "colab": {
   "name": "Customer_Segmenatation.ipynb",
   "provenance": []
  },
  "kernelspec": {
   "display_name": "Python 3",
   "language": "python",
   "name": "python3"
  },
  "language_info": {
   "codemirror_mode": {
    "name": "ipython",
    "version": 3
   },
   "file_extension": ".py",
   "mimetype": "text/x-python",
   "name": "python",
   "nbconvert_exporter": "python",
   "pygments_lexer": "ipython3",
   "version": "3.7.4"
  }
 },
 "nbformat": 4,
 "nbformat_minor": 1
}
